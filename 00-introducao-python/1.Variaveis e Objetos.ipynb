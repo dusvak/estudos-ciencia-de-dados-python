{
 "cells": [
  {
   "cell_type": "markdown",
   "id": "f66976f2-ca3c-4734-98db-e895dcee1549",
   "metadata": {},
   "source": [
    "<font size=\"5\">Introdução ao Python</font>"
   ]
  },
  {
   "cell_type": "markdown",
   "id": "7ab4d711-5ccc-4e9c-b910-3defa08ed8ed",
   "metadata": {},
   "source": [
    "<font size=\"4\">Variáveis e Objetos</font>"
   ]
  },
  {
   "cell_type": "code",
   "execution_count": 6,
   "id": "16bbe766-d1d5-4e2b-baa1-525dbdb03855",
   "metadata": {},
   "outputs": [
    {
     "name": "stdout",
     "output_type": "stream",
     "text": [
      "1\n",
      "3.13\n",
      "python\n",
      "True\n"
     ]
    }
   ],
   "source": [
    "#Cria variável do tipo inteiro\n",
    "\n",
    "x = 1\n",
    "print(x)\n",
    "\n",
    "#Cria variável do tipo float\n",
    "\n",
    "y = 3.13\n",
    "print(y)\n",
    "\n",
    "#Cria variável do tipo string\n",
    "\n",
    "m = \"python\"\n",
    "print(m)\n",
    "\n",
    "#Cria variável do tipo lógico\n",
    "\n",
    "w = True\n",
    "z = False\n",
    "print(w)"
   ]
  },
  {
   "cell_type": "code",
   "execution_count": 8,
   "id": "e8a9336c-0a7a-4240-b0be-71b5d40c2d69",
   "metadata": {},
   "outputs": [
    {
     "name": "stdout",
     "output_type": "stream",
     "text": [
      "30.0\n"
     ]
    }
   ],
   "source": [
    "#Calculadora\n",
    "\n",
    "x = 10\n",
    "y = 20\n",
    "z = 100\n",
    "w = (x + y) * z / 100\n",
    "print(w)"
   ]
  },
  {
   "cell_type": "code",
   "execution_count": 11,
   "id": "8d219ee1-3841-4bc5-8e0e-b6cf56acdfcb",
   "metadata": {},
   "outputs": [
    {
     "name": "stdout",
     "output_type": "stream",
     "text": [
      "Este texto sera impresso no console\n",
      "10\n",
      "100\n",
      "Texto e 2 variaveis:  10 , 100\n"
     ]
    }
   ],
   "source": [
    "#Exibir texto no console\n",
    "\n",
    "print(\"Este texto sera impresso no console\")\n",
    "print(x)\n",
    "print(z)\n",
    "print(\"Texto e 2 variaveis: \", x, \",\", z)"
   ]
  },
  {
   "cell_type": "code",
   "execution_count": 14,
   "id": "a5ba3ffc-290f-47bb-b8d7-f0495b84b6a5",
   "metadata": {},
   "outputs": [
    {
     "name": "stdout",
     "output_type": "stream",
     "text": [
      "<class 'int'>\n",
      "<class 'str'>\n"
     ]
    }
   ],
   "source": [
    "#Verificar tipo\n",
    "\n",
    "print(type(x))\n",
    "print(type(m))"
   ]
  },
  {
   "cell_type": "code",
   "execution_count": 18,
   "id": "9a07abbd-51f2-408e-8f79-fe2081cf726f",
   "metadata": {},
   "outputs": [
    {
     "name": "stdout",
     "output_type": "stream",
     "text": [
      "Informe o valor: \n"
     ]
    },
    {
     "name": "stdin",
     "output_type": "stream",
     "text": [
      " 50\n"
     ]
    },
    {
     "name": "stdout",
     "output_type": "stream",
     "text": [
      "<class 'str'>\n"
     ]
    }
   ],
   "source": [
    "#Entrada de dados\n",
    "\n",
    "print(\"Informe o valor: \")\n",
    "i = input()\n",
    "print(type(i))"
   ]
  },
  {
   "cell_type": "code",
   "execution_count": 20,
   "id": "bb105383-9d7e-41c8-8603-83ce9b5bfa7d",
   "metadata": {},
   "outputs": [
    {
     "name": "stdin",
     "output_type": "stream",
     "text": [
      "Informe o valor:  50\n"
     ]
    }
   ],
   "source": [
    "#Entrada de dados com mensagem junto\n",
    "\n",
    "i = input(\"Informe o valor: \")"
   ]
  },
  {
   "cell_type": "code",
   "execution_count": 24,
   "id": "09e6bdab-bf8b-45c9-99f7-2cdbe14f060f",
   "metadata": {},
   "outputs": [
    {
     "name": "stdin",
     "output_type": "stream",
     "text": [
      "Informe o valor 50\n"
     ]
    },
    {
     "name": "stdout",
     "output_type": "stream",
     "text": [
      "<class 'str'>\n",
      "<class 'int'>\n"
     ]
    }
   ],
   "source": [
    "#Conversão do tipo do valor\n",
    "\n",
    "var = input(\"Informe o valor\")\n",
    "print(type(var))\n",
    "var = int(var)\n",
    "print(type(var))"
   ]
  }
 ],
 "metadata": {
  "kernelspec": {
   "display_name": "Python [conda env:base] *",
   "language": "python",
   "name": "conda-base-py"
  },
  "language_info": {
   "codemirror_mode": {
    "name": "ipython",
    "version": 3
   },
   "file_extension": ".py",
   "mimetype": "text/x-python",
   "name": "python",
   "nbconvert_exporter": "python",
   "pygments_lexer": "ipython3",
   "version": "3.12.7"
  }
 },
 "nbformat": 4,
 "nbformat_minor": 5
}
