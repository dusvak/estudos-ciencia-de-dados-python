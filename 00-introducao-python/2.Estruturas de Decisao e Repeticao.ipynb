{
 "cells": [
  {
   "cell_type": "markdown",
   "id": "ae4ab16c-8f91-4e9c-83ef-30042c8a1f52",
   "metadata": {},
   "source": [
    "<font size=\"5\">Introdução ao Python</font>"
   ]
  },
  {
   "cell_type": "markdown",
   "id": "79c2310a-1415-47d3-9b12-a9b425bfebbd",
   "metadata": {},
   "source": [
    "<font size=\"4\">Estruturas de Decisão e Repetição</font>"
   ]
  },
  {
   "cell_type": "code",
   "execution_count": 4,
   "id": "910e1372-4a4b-4523-860d-1fbe99ab8e92",
   "metadata": {},
   "outputs": [
    {
     "name": "stdin",
     "output_type": "stream",
     "text": [
      "Informe a nota 10\n"
     ]
    },
    {
     "name": "stdout",
     "output_type": "stream",
     "text": [
      "Aprovado\n"
     ]
    }
   ],
   "source": [
    "#Verifica nota do aluno e diz se foi aprovado, reprovado ou está de exame\n",
    "\n",
    "nota = int(input(\"Informe a nota\"))\n",
    "if nota >= 7:\n",
    "    print(\"Aprovado\")\n",
    "elif nota > 4 and nota <= 6:\n",
    "    print(\"Exame\")\n",
    "else:\n",
    "    print(\"Reprovado\")"
   ]
  },
  {
   "cell_type": "code",
   "execution_count": 6,
   "id": "67501464-3438-4d47-86c9-54fa315d5b45",
   "metadata": {},
   "outputs": [
    {
     "name": "stdout",
     "output_type": "stream",
     "text": [
      "1\n",
      "2\n",
      "3\n",
      "4\n",
      "5\n",
      "6\n"
     ]
    }
   ],
   "source": [
    "#Verifica se é menor que o valor, enquanto for, imprime\n",
    "\n",
    "count = 1\n",
    "while count <= 5:\n",
    "    print(count)\n",
    "    count += 1\n",
    "print(count)"
   ]
  },
  {
   "cell_type": "code",
   "execution_count": 8,
   "id": "06a9731e-7afc-494e-bb7c-9565db7d46f0",
   "metadata": {},
   "outputs": [
    {
     "name": "stdout",
     "output_type": "stream",
     "text": [
      "0\n",
      "1\n",
      "2\n",
      "3\n",
      "4\n",
      "5\n",
      "6\n",
      "7\n",
      "8\n",
      "9\n"
     ]
    }
   ],
   "source": [
    "#range(0, 10, 1)\n",
    "#range (inicio, parada, incremento)\n",
    "#o incremento padrão é 1, não necessita ser escrito e pode ser negativo.\n",
    "\n",
    "for n in range (0, 10):\n",
    "    print (n)"
   ]
  },
  {
   "cell_type": "code",
   "execution_count": 15,
   "id": "e5f67bad-b7d8-4649-957e-adeecbdf1eb9",
   "metadata": {},
   "outputs": [
    {
     "name": "stdout",
     "output_type": "stream",
     "text": [
      "50\n",
      "60\n",
      "70\n",
      "80\n",
      "90\n"
     ]
    }
   ],
   "source": [
    "#incremento 10\n",
    "\n",
    "for n in range (50, 100, 10):\n",
    "    print(n)"
   ]
  },
  {
   "cell_type": "code",
   "execution_count": 17,
   "id": "5fc075b9-e484-4a3f-805b-3f4b5bd550a6",
   "metadata": {},
   "outputs": [
    {
     "name": "stdout",
     "output_type": "stream",
     "text": [
      "10\n",
      "8\n",
      "6\n",
      "4\n",
      "2\n"
     ]
    }
   ],
   "source": [
    "#incremento negativo\n",
    "\n",
    "for n in range (10, 0, -2):\n",
    "    print(n)"
   ]
  },
  {
   "cell_type": "code",
   "execution_count": 19,
   "id": "22476b0a-4aa4-4382-b8c5-810209743320",
   "metadata": {},
   "outputs": [
    {
     "name": "stdout",
     "output_type": "stream",
     "text": [
      "0\n",
      "1\n",
      "2\n",
      "3\n"
     ]
    }
   ],
   "source": [
    "#break faz com que o laço pare completamente\n",
    "\n",
    "for n in range (0, 10):\n",
    "    if n == 4:\n",
    "        break\n",
    "    print(n)"
   ]
  },
  {
   "cell_type": "code",
   "execution_count": 21,
   "id": "cbf4532b-f2e1-461e-9152-2539c3c59939",
   "metadata": {},
   "outputs": [
    {
     "name": "stdout",
     "output_type": "stream",
     "text": [
      "0\n",
      "1\n",
      "2\n",
      "3\n",
      "5\n",
      "6\n",
      "7\n",
      "8\n",
      "9\n"
     ]
    }
   ],
   "source": [
    "#continue não interrompe a execução, apenas pula ela.\n",
    "\n",
    "for n in range (0, 10):\n",
    "    if n == 4:\n",
    "        continue\n",
    "    print(n)"
   ]
  },
  {
   "cell_type": "code",
   "execution_count": null,
   "id": "02f31f59-5355-40c5-8a30-e06d82e852e2",
   "metadata": {},
   "outputs": [],
   "source": []
  }
 ],
 "metadata": {
  "kernelspec": {
   "display_name": "Python [conda env:base] *",
   "language": "python",
   "name": "conda-base-py"
  },
  "language_info": {
   "codemirror_mode": {
    "name": "ipython",
    "version": 3
   },
   "file_extension": ".py",
   "mimetype": "text/x-python",
   "name": "python",
   "nbconvert_exporter": "python",
   "pygments_lexer": "ipython3",
   "version": "3.12.7"
  }
 },
 "nbformat": 4,
 "nbformat_minor": 5
}
