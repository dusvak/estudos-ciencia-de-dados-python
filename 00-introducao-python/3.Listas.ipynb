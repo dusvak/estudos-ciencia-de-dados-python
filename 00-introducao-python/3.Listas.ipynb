{
 "cells": [
  {
   "cell_type": "markdown",
   "id": "3fc1bc99-56e8-475e-b3a5-55f4ff4daa5b",
   "metadata": {},
   "source": [
    "<font size=\"5\">Introdução ao Python</font>"
   ]
  },
  {
   "cell_type": "markdown",
   "id": "c4f23e04-b22c-4d5b-908d-f3e8ae826858",
   "metadata": {},
   "source": [
    "<font size=\"4\">Listas</font>"
   ]
  },
  {
   "cell_type": "code",
   "execution_count": 6,
   "id": "66be37e8-ce4b-45d8-9c8b-03346c544753",
   "metadata": {},
   "outputs": [
    {
     "name": "stdout",
     "output_type": "stream",
     "text": [
      "[1, 2, 3, 4, 5]\n"
     ]
    }
   ],
   "source": [
    "#Formas de criar listas\n",
    "\n",
    "lst = [1,2,3,4,5]\n",
    "print(lst)"
   ]
  },
  {
   "cell_type": "code",
   "execution_count": 8,
   "id": "aa76ed30-fd78-4911-b2ac-ac2b87fb1d43",
   "metadata": {},
   "outputs": [
    {
     "name": "stdout",
     "output_type": "stream",
     "text": [
      "[1, 2, 3, '4', True]\n"
     ]
    }
   ],
   "source": [
    "#Vários tipos\n",
    "\n",
    "lst2 = [1,2,3,\"4\",True]\n",
    "print(lst2)"
   ]
  },
  {
   "cell_type": "code",
   "execution_count": 10,
   "id": "77fd419a-2d2c-4770-beae-1339abd42c3a",
   "metadata": {},
   "outputs": [
    {
     "name": "stdout",
     "output_type": "stream",
     "text": [
      "[12, [1, 2, 3, 4, 5], 'a']\n"
     ]
    }
   ],
   "source": [
    "#Lista com lista dentro\n",
    "#ou seja, lista é um vetor onde cada posição é um objeto de qualquer tipo.\n",
    "\n",
    "lst3 = [12,[1,2,3,4,5], \"a\"]\n",
    "print(lst3)"
   ]
  },
  {
   "cell_type": "code",
   "execution_count": 12,
   "id": "9063b202-2522-4183-9696-407a62c57159",
   "metadata": {},
   "outputs": [
    {
     "name": "stdout",
     "output_type": "stream",
     "text": [
      "[0, 1, 2, 3, 4, 5, 6, 7, 8, 9]\n"
     ]
    }
   ],
   "source": [
    "#Lista com range\n",
    "\n",
    "lst4 = list(range(0, 10))\n",
    "print(lst4)"
   ]
  },
  {
   "cell_type": "code",
   "execution_count": 14,
   "id": "b2f647d3-7987-4b2d-b5de-cb02c6e7d397",
   "metadata": {},
   "outputs": [
    {
     "name": "stdout",
     "output_type": "stream",
     "text": [
      "5\n"
     ]
    }
   ],
   "source": [
    "#Comprimento da lista\n",
    "\n",
    "print(len(lst))"
   ]
  },
  {
   "cell_type": "code",
   "execution_count": 16,
   "id": "9b3b4916-9086-4e56-88e6-b962a4517bcd",
   "metadata": {},
   "outputs": [
    {
     "name": "stdout",
     "output_type": "stream",
     "text": [
      "1\n",
      "[1, 2, 3, 4, 5]\n",
      "[19, 2, 3, 4, 5]\n"
     ]
    }
   ],
   "source": [
    "#Acessando elementos da lista\n",
    "\n",
    "print (lst[0])\n",
    "print(lst3[1])\n",
    "\n",
    "#Alterando valor de uma posição da lista\n",
    "\n",
    "lst[0] = 19\n",
    "print(lst)"
   ]
  },
  {
   "cell_type": "code",
   "execution_count": 18,
   "id": "5be4154c-79ff-4764-b534-5ee43bdd9675",
   "metadata": {},
   "outputs": [
    {
     "name": "stdout",
     "output_type": "stream",
     "text": [
      "12\n",
      "[1, 2, 3, 4, 5]\n",
      "a\n"
     ]
    }
   ],
   "source": [
    "#Percorrendo a lista\n",
    "\n",
    "for n in range (0, len(lst3)):\n",
    "    print(lst3[n])"
   ]
  }
 ],
 "metadata": {
  "kernelspec": {
   "display_name": "Python [conda env:base] *",
   "language": "python",
   "name": "conda-base-py"
  },
  "language_info": {
   "codemirror_mode": {
    "name": "ipython",
    "version": 3
   },
   "file_extension": ".py",
   "mimetype": "text/x-python",
   "name": "python",
   "nbconvert_exporter": "python",
   "pygments_lexer": "ipython3",
   "version": "3.12.7"
  }
 },
 "nbformat": 4,
 "nbformat_minor": 5
}
