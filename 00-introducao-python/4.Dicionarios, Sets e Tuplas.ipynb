{
 "cells": [
  {
   "cell_type": "markdown",
   "id": "af53cdc6-5239-4fb7-ab76-0602b32a23f6",
   "metadata": {},
   "source": [
    "<font size=\"5\">Introdução ao Python</font>"
   ]
  },
  {
   "cell_type": "markdown",
   "id": "6f7e9d6f-7fc2-49ac-b735-071e1d920783",
   "metadata": {},
   "source": [
    "<font size=\"4\">Dicionários, Sets e Tuplas</font>"
   ]
  },
  {
   "cell_type": "markdown",
   "id": "51ddf34f-d292-4d35-ad42-759ce6d34c2a",
   "metadata": {},
   "source": [
    "<font size=\"4\">Dicionários</font>"
   ]
  },
  {
   "cell_type": "code",
   "execution_count": 4,
   "id": "bac7d343-f093-488a-a3a3-5389ca8bb7e7",
   "metadata": {},
   "outputs": [
    {
     "name": "stdout",
     "output_type": "stream",
     "text": [
      "{'Joao': 6.0, 'Maria': 8.0, 'Pedro': 6.5}\n",
      "<class 'dict'>\n"
     ]
    }
   ],
   "source": [
    "#Dicionarios: Estrutura Chave/Valor\n",
    "\n",
    "Notas = {\"Joao\":6.0, \"Maria\":8.0, \"Pedro\":6.5}\n",
    "print(Notas)\n",
    "print(type(Notas))"
   ]
  },
  {
   "cell_type": "code",
   "execution_count": 6,
   "id": "680a5db4-28d8-43ec-986d-d2011c12aa34",
   "metadata": {},
   "outputs": [
    {
     "name": "stdout",
     "output_type": "stream",
     "text": [
      "6.0\n"
     ]
    }
   ],
   "source": [
    "#Imprime o valor da chave requisitada\n",
    "\n",
    "print(Notas[\"Joao\"])"
   ]
  },
  {
   "cell_type": "code",
   "execution_count": 8,
   "id": "a621af14-b31a-4ccd-a3e2-325a974d0355",
   "metadata": {},
   "outputs": [
    {
     "data": {
      "text/plain": [
       "dict_keys(['Joao', 'Maria', 'Pedro'])"
      ]
     },
     "execution_count": 8,
     "metadata": {},
     "output_type": "execute_result"
    }
   ],
   "source": [
    "#Imprime todas as chaves\n",
    "\n",
    "Notas.keys()"
   ]
  },
  {
   "cell_type": "code",
   "execution_count": 10,
   "id": "28179515-9d9c-4a69-820d-8ce63ab1a380",
   "metadata": {},
   "outputs": [
    {
     "data": {
      "text/plain": [
       "dict_values([6.0, 8.0, 6.5])"
      ]
     },
     "execution_count": 10,
     "metadata": {},
     "output_type": "execute_result"
    }
   ],
   "source": [
    "#Imprime todas as valores\n",
    "\n",
    "Notas.values()"
   ]
  },
  {
   "cell_type": "code",
   "execution_count": 12,
   "id": "c80e165d-f9b5-4232-931c-bdf7120742bb",
   "metadata": {},
   "outputs": [
    {
     "name": "stdout",
     "output_type": "stream",
     "text": [
      "True\n",
      "False\n"
     ]
    }
   ],
   "source": [
    "#Testa logicamente a existencia de uma chave\n",
    "\n",
    "print(\"Joao\" in Notas)\n",
    "print(\"Fernando\" in Notas)"
   ]
  },
  {
   "cell_type": "code",
   "execution_count": 14,
   "id": "04d730d8-fe38-4189-9cee-b9f6741c558b",
   "metadata": {},
   "outputs": [
    {
     "name": "stdout",
     "output_type": "stream",
     "text": [
      "{'Maria': 8.0, 'Pedro': 6.5}\n"
     ]
    }
   ],
   "source": [
    "#Apaga um elemento, junto com ele seu valor\n",
    "\n",
    "del Notas[\"Joao\"]\n",
    "print(Notas)"
   ]
  },
  {
   "cell_type": "code",
   "execution_count": 16,
   "id": "fa9f9bf8-211e-4603-91c5-0d805054adaf",
   "metadata": {},
   "outputs": [
    {
     "name": "stdout",
     "output_type": "stream",
     "text": [
      "{'Maria': 8.0, 'Pedro': 6.5, 'Ana': 9}\n"
     ]
    }
   ],
   "source": [
    "#Adiciona um elemento, passando chave e valor\n",
    "\n",
    "Notas[\"Ana\"] = 9\n",
    "print(Notas)"
   ]
  },
  {
   "cell_type": "code",
   "execution_count": 18,
   "id": "1c80b27b-5387-4736-80e2-0b797352bc90",
   "metadata": {},
   "outputs": [
    {
     "name": "stdout",
     "output_type": "stream",
     "text": [
      "Não encontrado\n",
      "9\n"
     ]
    }
   ],
   "source": [
    "#Busca por um valor, se não encontrar, mostra segundo elemento\n",
    "\n",
    "print(Notas.get(\"Geraldo\",\"Não encontrado\"))\n",
    "print(Notas.get(\"Ana\",\"Não encontrado\"))"
   ]
  },
  {
   "cell_type": "markdown",
   "id": "ef6d7d3f-e703-4832-b365-61fcff8a457e",
   "metadata": {},
   "source": [
    "<font size=\"4\">Sets</font>"
   ]
  },
  {
   "cell_type": "code",
   "execution_count": 27,
   "id": "25e291e1-1166-49ba-b160-9ffa56df119c",
   "metadata": {},
   "outputs": [
    {
     "name": "stdout",
     "output_type": "stream",
     "text": [
      "{'Hive', 'Sqoop', 'Spark'}\n",
      "<class 'set'>\n"
     ]
    }
   ],
   "source": [
    "#Sets são conjuntos não ordenados de elementos não repetidos\n",
    "#Semelhante a lista, porém não podem ser repetidos\n",
    "\n",
    "bigdata = {\"Spark\", \"Hive\", \"Sqoop\"}\n",
    "print(bigdata)\n",
    "print(type(bigdata))"
   ]
  },
  {
   "cell_type": "code",
   "execution_count": null,
   "id": "cc2a79c2-2822-4378-959c-e1e33656e563",
   "metadata": {},
   "outputs": [],
   "source": []
  }
 ],
 "metadata": {
  "kernelspec": {
   "display_name": "Python [conda env:base] *",
   "language": "python",
   "name": "conda-base-py"
  },
  "language_info": {
   "codemirror_mode": {
    "name": "ipython",
    "version": 3
   },
   "file_extension": ".py",
   "mimetype": "text/x-python",
   "name": "python",
   "nbconvert_exporter": "python",
   "pygments_lexer": "ipython3",
   "version": "3.12.7"
  }
 },
 "nbformat": 4,
 "nbformat_minor": 5
}
