{
 "cells": [
  {
   "cell_type": "markdown",
   "id": "045a3cb2-f054-4b6e-81ec-de1919a879b3",
   "metadata": {},
   "source": [
    "<font size=\"5\">Introdução ao Python</font>"
   ]
  },
  {
   "cell_type": "markdown",
   "id": "d0346d4f-a7c6-4dbe-9aec-cd22b783ed0f",
   "metadata": {},
   "source": [
    "<font size=\"4\">Funções</font>"
   ]
  },
  {
   "cell_type": "code",
   "execution_count": 7,
   "id": "d0ec9607-d1ba-45da-b4d9-a43640c55172",
   "metadata": {},
   "outputs": [
    {
     "name": "stdout",
     "output_type": "stream",
     "text": [
      "Esta é uma função\n"
     ]
    }
   ],
   "source": [
    "#Funções\n",
    "\n",
    "def imprime():\n",
    "    print(\"Esta é uma função\")\n",
    "\n",
    "imprime()"
   ]
  },
  {
   "cell_type": "code",
   "execution_count": 9,
   "id": "2465c136-b6e7-490e-ac68-fec4679c9973",
   "metadata": {},
   "outputs": [
    {
     "name": "stdout",
     "output_type": "stream",
     "text": [
      "Impressão deste texto\n"
     ]
    }
   ],
   "source": [
    "#Função com parâmetro\n",
    "\n",
    "def imprime(n):\n",
    "    print(n)\n",
    "\n",
    "imprime(\"Impressão deste texto\")"
   ]
  },
  {
   "cell_type": "code",
   "execution_count": 11,
   "id": "5cbe06a5-39c1-42dc-a872-0cbe41c4aeec",
   "metadata": {},
   "outputs": [
    {
     "name": "stdout",
     "output_type": "stream",
     "text": [
      "9\n"
     ]
    }
   ],
   "source": [
    "#Função com retorno\n",
    "\n",
    "def potencia(n):\n",
    "    return n * n\n",
    "\n",
    "x = potencia(3)\n",
    "\n",
    "print(x)"
   ]
  },
  {
   "cell_type": "code",
   "execution_count": 13,
   "id": "8cafdfbd-b42d-4968-b77f-0e0812faf26b",
   "metadata": {},
   "outputs": [
    {
     "name": "stdout",
     "output_type": "stream",
     "text": [
      "2\n",
      "3\n",
      "4\n",
      "5\n",
      "6\n",
      "7\n",
      "8\n",
      "1\n",
      "2\n",
      "3\n",
      "4\n",
      "5\n",
      "6\n",
      "7\n",
      "8\n",
      "9\n",
      "10\n"
     ]
    }
   ],
   "source": [
    "#Função com valor default\n",
    "\n",
    "def intervalo(inic = 1, fim = 10):\n",
    "    for n in range (inic, fim+1):\n",
    "        print(n)\n",
    "\n",
    "x = intervalo (2,8)\n",
    "y = intervalo()"
   ]
  },
  {
   "cell_type": "code",
   "execution_count": 15,
   "id": "d52d33f1-b200-4750-ba6f-ec2cfc4d6f1e",
   "metadata": {},
   "outputs": [
    {
     "name": "stdout",
     "output_type": "stream",
     "text": [
      "200\n",
      "Maior valor:  45\n",
      "Menor valor:  1\n",
      "Soma:  108\n",
      "Arredondamento:  2.44\n"
     ]
    }
   ],
   "source": [
    "#Funções internas padrão\n",
    "\n",
    "print(abs(-200)) #Retorna o valor absoluto\n",
    "lst = [1, 2, 30, 30, 45]\n",
    "print(\"Maior valor: \", max(lst))\n",
    "print(\"Menor valor: \", min(lst))\n",
    "print(\"Soma: \", sum(lst))\n",
    "print(\"Arredondamento: \", round(2.43934, 2))"
   ]
  },
  {
   "cell_type": "code",
   "execution_count": 17,
   "id": "2a656abc-886a-4e01-9c66-dcd71cba77e9",
   "metadata": {},
   "outputs": [
    {
     "name": "stdout",
     "output_type": "stream",
     "text": [
      "Média:  21.6\n",
      "Mediana:  30\n",
      "Moda:  30\n",
      "Desvio padrão:  19.346834366376324\n",
      "Variância:  374.3\n"
     ]
    }
   ],
   "source": [
    "#Pacote padrão statistics\n",
    "\n",
    "import statistics as est\n",
    "print(\"Média: \", est.mean(lst))\n",
    "print(\"Mediana: \", est.median(lst))\n",
    "print(\"Moda: \", est.mode(lst))\n",
    "print(\"Desvio padrão: \", est.stdev(lst))\n",
    "print(\"Variância: \", est.variance(lst))"
   ]
  },
  {
   "cell_type": "code",
   "execution_count": null,
   "id": "1a71d3cf-15c5-4155-b103-8e33bb277c35",
   "metadata": {},
   "outputs": [],
   "source": []
  }
 ],
 "metadata": {
  "kernelspec": {
   "display_name": "Python [conda env:base] *",
   "language": "python",
   "name": "conda-base-py"
  },
  "language_info": {
   "codemirror_mode": {
    "name": "ipython",
    "version": 3
   },
   "file_extension": ".py",
   "mimetype": "text/x-python",
   "name": "python",
   "nbconvert_exporter": "python",
   "pygments_lexer": "ipython3",
   "version": "3.12.7"
  }
 },
 "nbformat": 4,
 "nbformat_minor": 5
}
