{
 "cells": [
  {
   "cell_type": "markdown",
   "id": "1119000b-28fb-41b7-8301-25e29f2e4a8d",
   "metadata": {},
   "source": [
    "<font size=\"5\">Introdução ao Python</font>"
   ]
  },
  {
   "cell_type": "markdown",
   "id": "d22ecfcf-9430-4500-86c9-2e4303d84a29",
   "metadata": {},
   "source": [
    "<font size=\"4\">Numpy</font>"
   ]
  },
  {
   "cell_type": "code",
   "execution_count": 7,
   "id": "57969aac-bb1c-4bf2-b1f8-c7072eae7c0c",
   "metadata": {},
   "outputs": [],
   "source": [
    "import numpy as np"
   ]
  },
  {
   "cell_type": "code",
   "execution_count": 9,
   "id": "53868941-f431-43b5-b7a2-cce73566a96d",
   "metadata": {},
   "outputs": [
    {
     "name": "stdout",
     "output_type": "stream",
     "text": [
      "[12 34 26 18 10]\n",
      "<class 'numpy.ndarray'>\n"
     ]
    }
   ],
   "source": [
    "#Cria uma matriz unidimensional\n",
    "\n",
    "mt = np.array([12,34,26,18,10])\n",
    "print(mt)\n",
    "print(type(mt))"
   ]
  },
  {
   "cell_type": "code",
   "execution_count": 11,
   "id": "eb1aaeb3-0338-47a3-a83a-bb84abe732f9",
   "metadata": {},
   "outputs": [
    {
     "name": "stdout",
     "output_type": "stream",
     "text": [
      "[1. 2. 3.]\n",
      "<class 'numpy.ndarray'>\n"
     ]
    }
   ],
   "source": [
    "#Cria o array com um tipo especifico (float 64bits)\n",
    "\n",
    "mtfloat = np.array([1,2,3], dtype = np.float64)\n",
    "print(mtfloat)\n",
    "print(type(mtfloat))"
   ]
  },
  {
   "cell_type": "code",
   "execution_count": 13,
   "id": "7c2d631f-8914-43be-9ba4-772a5283d9cc",
   "metadata": {},
   "outputs": [
    {
     "name": "stdout",
     "output_type": "stream",
     "text": [
      "[1 2 3]\n",
      "<class 'numpy.ndarray'>\n"
     ]
    }
   ],
   "source": [
    "#Cria o array com um tipo especifico (int 32bits)\n",
    "\n",
    "mtint = np.array([1,2,3], dtype = np.int32)\n",
    "print(mtint)\n",
    "print(type(mtint))"
   ]
  },
  {
   "cell_type": "code",
   "execution_count": 15,
   "id": "029340c6-d980-4b1e-ab6e-4ae3d91f0c74",
   "metadata": {},
   "outputs": [
    {
     "name": "stdout",
     "output_type": "stream",
     "text": [
      "[ 1.4      3.6     -5.1      9.42     4.94293]\n",
      "[ 1  3 -5  9  4]\n"
     ]
    }
   ],
   "source": [
    "#Muda o tipo do array\n",
    "\n",
    "mtnew = np.array([1.4, 3.6, -5.1, 9.42, 4.94293])\n",
    "print(mtnew)\n",
    "\n",
    "#Quando transformamos o float para int os valores são truncados\n",
    "\n",
    "mtnewint = mtnew.astype(np.int32)\n",
    "print(mtnewint)"
   ]
  },
  {
   "cell_type": "code",
   "execution_count": 17,
   "id": "72252fed-9c3d-4ae1-8f2a-920e525cd68a",
   "metadata": {},
   "outputs": [
    {
     "name": "stdout",
     "output_type": "stream",
     "text": [
      "[1 2 3 4]\n",
      "[1. 2. 3. 4.]\n"
     ]
    }
   ],
   "source": [
    "#Também pode ser feito o inverso\n",
    "\n",
    "mt5 = np.array([1,2,3,4])\n",
    "print(mt5)\n",
    "mt5float = mt5.astype(np.float64)\n",
    "print(mt5float)"
   ]
  },
  {
   "cell_type": "code",
   "execution_count": 19,
   "id": "d1c8389a-ad59-4d72-9163-217434d28ac1",
   "metadata": {},
   "outputs": [
    {
     "name": "stdout",
     "output_type": "stream",
     "text": [
      "[[ 7  2 23]\n",
      " [12 27  4]\n",
      " [ 5 34 23]]\n"
     ]
    }
   ],
   "source": [
    "#Cria uma matriz bidimensional\n",
    "\n",
    "mtbi = np.array([[7,2,23],[12,27,4],[5,34,23]])\n",
    "print(mtbi)"
   ]
  },
  {
   "cell_type": "code",
   "execution_count": 21,
   "id": "3555d3e7-9cf8-44bf-b83a-5f2670aea7be",
   "metadata": {},
   "outputs": [
    {
     "name": "stdout",
     "output_type": "stream",
     "text": [
      "[[         0 1072693248]\n",
      " [         0 1073741824]\n",
      " [         0 1074266112]]\n",
      "-------\n",
      "[[0. 0. 0.]\n",
      " [0. 0. 0.]\n",
      " [0. 0. 0.]\n",
      " [0. 0. 0.]]\n",
      "-------\n",
      "[[1. 1. 1. 1. 1. 1. 1.]\n",
      " [1. 1. 1. 1. 1. 1. 1.]\n",
      " [1. 1. 1. 1. 1. 1. 1.]\n",
      " [1. 1. 1. 1. 1. 1. 1.]\n",
      " [1. 1. 1. 1. 1. 1. 1.]]\n",
      "-------\n",
      "[[1. 0. 0. 0. 0.]\n",
      " [0. 1. 0. 0. 0.]\n",
      " [0. 0. 1. 0. 0.]\n",
      " [0. 0. 0. 1. 0.]\n",
      " [0. 0. 0. 0. 1.]]\n"
     ]
    }
   ],
   "source": [
    "#Criar arrays vazios tipificados\n",
    "\n",
    "#Empty significa que não são inicializados, não que são vazios.\n",
    "\n",
    "vazio = np.empty([3,2], dtype = int)\n",
    "print(vazio)\n",
    "print(\"-------\")\n",
    "\n",
    "#Cria uma matriz 4x3 com valores zero\n",
    "\n",
    "zeros = np.zeros([4,3])\n",
    "print(zeros)\n",
    "print(\"-------\")\n",
    "\n",
    "#Com valores igual a um\n",
    "\n",
    "um = np.ones([5,7])\n",
    "print(um)\n",
    "print(\"-------\")\n",
    "\n",
    "#Cria uma matriz quadrada com diagonal principal com valores 1 e os outros valores 0 \n",
    "\n",
    "diagonal = np.eye(5)\n",
    "print(diagonal)"
   ]
  },
  {
   "cell_type": "code",
   "execution_count": 23,
   "id": "96148fab-ab0d-4bae-8454-f2fbbae7899d",
   "metadata": {},
   "outputs": [
    {
     "name": "stdout",
     "output_type": "stream",
     "text": [
      "[0.89127367 0.67588256 0.47164592 0.7998769  0.31698506]\n",
      "------------\n",
      "[-0.46880711  0.73928625 -0.22964374  0.20985348  1.59599415]\n",
      "------------\n",
      "[[4.15274713 2.47970036 5.55500449 0.60886425]\n",
      " [7.37164796 5.96149811 4.7470443  7.59860781]\n",
      " [9.93407303 0.08496724 7.33304523 3.98069123]]\n"
     ]
    }
   ],
   "source": [
    "#Valores aleatórios entre zero e um\n",
    "\n",
    "ale = np.random.random((5))\n",
    "print(ale)\n",
    "print(\"------------\")\n",
    "\n",
    "#Valores aleatórios distribuicao normal contendo negativos\n",
    "\n",
    "ale2 = np.random.randn((5))\n",
    "print(ale2)\n",
    "print(\"------------\")\n",
    "\n",
    "#Valores aleatórios 3x4\n",
    "\n",
    "ale3 = (10*np.random.random((3,4)))\n",
    "print(ale3)"
   ]
  },
  {
   "cell_type": "code",
   "execution_count": 25,
   "id": "985d8f4f-1b90-47eb-beb5-4d161f78528b",
   "metadata": {},
   "outputs": [
    {
     "name": "stdout",
     "output_type": "stream",
     "text": [
      "[0.51182162 0.9504637  0.14415961]\n",
      "[[8 9 2 3]\n",
      " [8 4 2 8]\n",
      " [2 4 6 5]]\n"
     ]
    }
   ],
   "source": [
    "#Outra forma de gerar aleatórios\n",
    "#Uso de semente\n",
    "#1 é a semente, sempre que utilizar o 1 irá gerar os mesmos numeros\n",
    "\n",
    "gnr = np.random.default_rng(1)\n",
    "ale5 = gnr.random(3)\n",
    "print(ale5)\n",
    "\n",
    "#Gerar inteiros // será um numero até 10 em uma matriz 3x4\n",
    "\n",
    "ale6 = gnr.integers(10, size=(3, 4))\n",
    "print(ale6)"
   ]
  },
  {
   "cell_type": "code",
   "execution_count": 27,
   "id": "24bccb56-4d20-4e42-bbda-305fe42ad3e9",
   "metadata": {},
   "outputs": [
    {
     "name": "stdout",
     "output_type": "stream",
     "text": [
      "[ 1  2  3  4  5  6  7  8  9 10]\n"
     ]
    }
   ],
   "source": [
    "#Método unique remove repetições\n",
    "\n",
    "j = np.array([1,2,3,3,4,4,5,6,7,8,9,9,10])\n",
    "j = np.unique(j)\n",
    "print(j)"
   ]
  },
  {
   "cell_type": "code",
   "execution_count": 29,
   "id": "025820b9-2091-4d91-86ab-72d7e5f0aec7",
   "metadata": {},
   "outputs": [
    {
     "name": "stdout",
     "output_type": "stream",
     "text": [
      "[[17 22 43]\n",
      " [27 25 14]\n",
      " [15 24 32]]\n",
      "22\n",
      "(3, 3)\n"
     ]
    }
   ],
   "source": [
    "#Funções especificas\n",
    "#Cria a matrizx bidimencional k\n",
    "\n",
    "k = np.array([[17,22,43],[27,25,14],[15,24,32]])\n",
    "\n",
    "#Mostra a matriz k\n",
    "\n",
    "print(k)\n",
    "\n",
    "#Mostra um elemento especifico da matriz k\n",
    "#0 se refere a linha e o 1 a coluna\n",
    "\n",
    "print(k[0][1])\n",
    "\n",
    "#Mostra o tamanho das dimensoes da matriz k\n",
    "\n",
    "print(k.shape)"
   ]
  },
  {
   "cell_type": "code",
   "execution_count": 31,
   "id": "6739dbce-dc97-4849-bba7-385c913e6f5c",
   "metadata": {},
   "outputs": [
    {
     "name": "stdout",
     "output_type": "stream",
     "text": [
      "43\n",
      "14\n",
      "219\n",
      "24.333333333333332\n",
      "8.615231988880057\n"
     ]
    }
   ],
   "source": [
    "#Funções Matemáticas\n",
    "\n",
    "#mostra o maior valor da matriz k\n",
    "print(k.max())\n",
    "#mostra o menor valor da matriz k\n",
    "print(k.min())\n",
    "#mostra a soma dos valores da matriz k\n",
    "print(k.sum())\n",
    "#mostra a media dos valores da matriz k\n",
    "print(k.mean())\n",
    "#mostra o valor do desvio padrao (standard deviation) dos valores da matriz k\n",
    "print(k.std())"
   ]
  },
  {
   "cell_type": "code",
   "execution_count": 33,
   "id": "87681420-01bd-416e-b29f-5ab9e7686b3b",
   "metadata": {},
   "outputs": [
    {
     "name": "stdout",
     "output_type": "stream",
     "text": [
      "[1. 2. 3. 4. 5. 6.]\n",
      "[2.71828183e+00 5.45981500e+01 8.10308393e+03 8.88611052e+06\n",
      " 7.20048993e+10 4.31123155e+15]\n"
     ]
    }
   ],
   "source": [
    "#Funções universais, aplicadas a todos os elementos\n",
    "\n",
    "#Mostra o valor da raiz qudrada de todos os elementos\n",
    "\n",
    "k1 = np.array([1,4,9,16,25,36])\n",
    "print(np.sqrt(k1))\n",
    "\n",
    "#Mostra o valor do exponencial de todos os elementos\n",
    "\n",
    "print (np.exp(k1))"
   ]
  },
  {
   "cell_type": "code",
   "execution_count": 35,
   "id": "b7b1cfb8-d506-4b2f-8b3d-7b2a02bea42e",
   "metadata": {},
   "outputs": [
    {
     "name": "stdout",
     "output_type": "stream",
     "text": [
      "2\n",
      "-----------------\n",
      "[1 2]\n",
      "-----------------\n",
      "[2 3 4 5 6]\n",
      "-----------------\n",
      "[4 5 6]\n"
     ]
    }
   ],
   "source": [
    "#Extração de elementos\n",
    "\n",
    "m = np.array([1,2,3,4,5,6])\n",
    "\n",
    "#Mostra o elemento da posicao 2\n",
    "\n",
    "print(m[1])\n",
    "print(\"-----------------\")\n",
    "\n",
    "#Mostra o array criado a partr da posicao 0, sempre ignora o último elemento\n",
    "\n",
    "print(m[0:2])\n",
    "print(\"-----------------\")\n",
    "\n",
    "#Mostra o array criado a partir da segunda posicao\n",
    "#Até todo o restante do array\n",
    "\n",
    "print(m[1:])\n",
    "print(\"-----------------\")\n",
    "\n",
    "#Mostra o array craiado a partir da antepenuntima posicao ate o final\n",
    "print(m[-3:])"
   ]
  },
  {
   "cell_type": "code",
   "execution_count": 37,
   "id": "575ceee8-b43f-4608-9e8e-276c548c1f45",
   "metadata": {},
   "outputs": [
    {
     "name": "stdout",
     "output_type": "stream",
     "text": [
      "[[4 5]\n",
      " [6 1]\n",
      " [7 4]]\n",
      "-----------------\n",
      "[4 5]\n",
      "-----------------\n",
      "[6 1]\n",
      "-----------------\n",
      "[4 6 7]\n"
     ]
    }
   ],
   "source": [
    "#Extração de linhas e colunas\n",
    "\n",
    "l = np.array([[4,5],[6,1],[7,4]])\n",
    "print(l)\n",
    "print(\"-----------------\")\n",
    "\n",
    "#Primeira linha, todas as colunas\n",
    "\n",
    "l_linha1 = l[0, :]\n",
    "print(l_linha1)\n",
    "print(\"-----------------\")\n",
    "\n",
    "#Segunda linha\n",
    "\n",
    "l_linha2 = l[1, :]\n",
    "print(l_linha2)\n",
    "print(\"-----------------\")\n",
    "\n",
    "#Todas as linhas, primeira coluna\n",
    "\n",
    "l_coluna1 = l[:,0]\n",
    "print(l_coluna1)\n"
   ]
  },
  {
   "cell_type": "code",
   "execution_count": 39,
   "id": "86d3e7cb-caa6-4561-b40b-ca0d00ef4f38",
   "metadata": {},
   "outputs": [
    {
     "name": "stdout",
     "output_type": "stream",
     "text": [
      "[[2 3]\n",
      " [4 5]]\n",
      "-----------------\n",
      "[[1 2]\n",
      " [3 4]]\n",
      "-----------------\n",
      "[[3 3]\n",
      " [5 5]\n",
      " [7 7]]\n"
     ]
    }
   ],
   "source": [
    "#Adição e multiplicação de matrizes\n",
    "\n",
    "n = np.array([[1, 2],[3, 4]])\n",
    "o = np.array([[1, 1],[1, 1]])\n",
    "somamt = n + o\n",
    "print(somamt)\n",
    "print(\"-----------------\")\n",
    "multmt = n * o\n",
    "print(multmt)\n",
    "print(\"-----------------\")\n",
    "p = np.array([[1, 2], [3, 4], [5, 6]])\n",
    "q = np.array([[2, 1]])\n",
    "print(p+q) #a matriz unimensional é somada a todas as matrizes da matriz multdimensional"
   ]
  },
  {
   "cell_type": "code",
   "execution_count": 41,
   "id": "e8baf9a1-1459-4b59-ae77-9229e9c0207e",
   "metadata": {},
   "outputs": [
    {
     "name": "stdout",
     "output_type": "stream",
     "text": [
      "[[ 0  1  2  3  4]\n",
      " [ 5  6  7  8  9]\n",
      " [10 11 12 13 14]]\n",
      "-----------------\n",
      "[[ 0  5 10]\n",
      " [ 1  6 11]\n",
      " [ 2  7 12]\n",
      " [ 3  8 13]\n",
      " [ 4  9 14]]\n"
     ]
    }
   ],
   "source": [
    "#Transposição rearranja um conjunto de 15 elementos de 0 a 14\n",
    "#em 3 linhas e 5 colunas\n",
    "\n",
    "f = np.arange(15).reshape((3, 5))\n",
    "\n",
    "#Mostra a matrizes transposta entre linha e coluna\n",
    "\n",
    "print(f)\n",
    "print(\"-----------------\")\n",
    "\n",
    "s= f.T #é como se transformasse as linhas em colunas e colunas em linhas\n",
    "print(s)"
   ]
  },
  {
   "cell_type": "code",
   "execution_count": 43,
   "id": "4ad47945-83e0-4284-b600-e8afa3860a2a",
   "metadata": {},
   "outputs": [
    {
     "name": "stdout",
     "output_type": "stream",
     "text": [
      "[[ 0  1  2  3  4]\n",
      " [ 5  6  7  8  9]\n",
      " [10 11 12 13 14]]\n",
      "-----------------\n",
      "[[ 0  5 10]\n",
      " [ 1  6 11]\n",
      " [ 2  7 12]\n",
      " [ 3  8 13]\n",
      " [ 4  9 14]]\n"
     ]
    }
   ],
   "source": [
    "#Outra forma de fazer, mesmo resultado\n",
    "\n",
    "r = np.arange(15).reshape((3, 5))\n",
    "print(r)\n",
    "print(\"-----------------\")\n",
    "\n",
    "#Rearranja um conjunto de 15 elementos\n",
    "#Mostra a matriz transposta entre linha e coluna\n",
    "\n",
    "s = r.transpose((1,0))\n",
    "print(s)              "
   ]
  },
  {
   "cell_type": "code",
   "execution_count": 45,
   "id": "10a7b191-2e01-414d-8f60-8e9ddb2d5bd0",
   "metadata": {},
   "outputs": [
    {
     "name": "stdout",
     "output_type": "stream",
     "text": [
      "[[-1.52121768  0.57463536 -0.48513713 -1.40811694]\n",
      " [ 1.00274914 -0.57890815  0.76866788  0.27418328]\n",
      " [ 1.33360513  1.27254503  2.03965222  1.24211247]\n",
      " [ 0.46204303  0.12352983  0.27942848  2.3838147 ]]\n",
      "[[False  True False False]\n",
      " [ True False  True  True]\n",
      " [ True  True  True  True]\n",
      " [ True  True  True  True]]\n",
      "[[-1  1 -1 -1]\n",
      " [ 1 -1  1  1]\n",
      " [ 1  1  1  1]\n",
      " [ 1  1  1  1]]\n"
     ]
    }
   ],
   "source": [
    "#Expressões Lógicas usando where\n",
    "\n",
    "#Criando matriz com valores aleatórios positivos e negativos\n",
    "\n",
    "v = np.random.randn(4, 4)\n",
    "print(v)\n",
    "\n",
    "#Criando matriz com valores booleanos baseado no array v\n",
    "x = v > 0\n",
    "print(x)\n",
    "\n",
    "#Criando matriz com valores -1 e 1 baseado nos valores do array x\n",
    "z = np.where (x > 0, 1, -1)\n",
    "print(z)"
   ]
  }
 ],
 "metadata": {
  "kernelspec": {
   "display_name": "Python [conda env:base] *",
   "language": "python",
   "name": "conda-base-py"
  },
  "language_info": {
   "codemirror_mode": {
    "name": "ipython",
    "version": 3
   },
   "file_extension": ".py",
   "mimetype": "text/x-python",
   "name": "python",
   "nbconvert_exporter": "python",
   "pygments_lexer": "ipython3",
   "version": "3.12.7"
  }
 },
 "nbformat": 4,
 "nbformat_minor": 5
}
