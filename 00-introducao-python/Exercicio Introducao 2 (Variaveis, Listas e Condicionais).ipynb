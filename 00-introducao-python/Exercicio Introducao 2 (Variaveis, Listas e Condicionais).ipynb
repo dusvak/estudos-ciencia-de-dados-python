{
 "cells": [
  {
   "cell_type": "markdown",
   "id": "a071e0f7-73bd-4552-8b89-c5fa1022767d",
   "metadata": {},
   "source": [
    "<font size=\"5\">Exercício 1: Análise de Dados Simples (Variáveis, Listas e Condicionais)</font>"
   ]
  },
  {
   "cell_type": "markdown",
   "id": "9f028ef9-ac62-43ac-9a9e-324b9d00e6d5",
   "metadata": {},
   "source": [
    "<font size=\"4\">Você recebeu uma lista de temperaturas diárias em graus Celsius para uma semana. Crie um programa que:</font>\n",
    "\n",
    "<font size=\"4\">1. Armazene essas temperaturas em uma lista</font>\n",
    "\n",
    "<font size=\"4\">2. Calcule a temperatura média da semana</font>\n",
    "\n",
    "<font size=\"4\">3. Identifique e imprima a temperatura máxima e a temperatura mínima da semana</font>\n",
    "\n",
    "<font size=\"4\">4. Verifique se houve algum dia com temperatura acima de 30°C e imprima uma mensagem apropriada</font>\n",
    "\n",
    "<font size=\"4\">Exemplo de dados: temperaturas = [25, 28, 22, 31, 27, 29, 26]</font>"
   ]
  },
  {
   "cell_type": "code",
   "execution_count": 86,
   "id": "5d90df7e-df3e-4f53-b01a-0aea560472b1",
   "metadata": {},
   "outputs": [
    {
     "data": {
      "text/plain": [
       "[25, 28, 22, 31, 27, 29, 26]"
      ]
     },
     "execution_count": 86,
     "metadata": {},
     "output_type": "execute_result"
    }
   ],
   "source": [
    "#Criando lista de temperaturas\n",
    "\n",
    "temperaturas = [25, 28, 22, 31, 27, 29, 26]\n",
    "temperaturas"
   ]
  },
  {
   "cell_type": "code",
   "execution_count": 88,
   "id": "c866b76d-c79e-46ba-8c8e-cc20df70a956",
   "metadata": {},
   "outputs": [
    {
     "name": "stdout",
     "output_type": "stream",
     "text": [
      "A média da temperatura é: 26.86\n",
      "A média da temperatura é: 26.86\n"
     ]
    }
   ],
   "source": [
    "#Calculando temperatura média\n",
    "\n",
    "qtd_temperaturas = len(temperaturas)\n",
    "soma_temperaturas = 0\n",
    "\n",
    "for n in range(0, qtd_temperaturas):\n",
    "    soma_temperaturas = soma_temperaturas + (temperaturas[n])\n",
    "\n",
    "media_temperaturas = soma_temperaturas/qtd_temperaturas\n",
    "\n",
    "print(f\"A média da temperatura é: {media_temperaturas:.2f}\")\n",
    "\n",
    "#Utilizando statistics\n",
    "\n",
    "import statistics as est\n",
    "\n",
    "print(f\"A média da temperatura é: {est.mean(temperaturas):.2f}\")"
   ]
  },
  {
   "cell_type": "code",
   "execution_count": 90,
   "id": "e3fb1208-f0c1-4748-aa2a-bca08b34eb16",
   "metadata": {},
   "outputs": [
    {
     "name": "stdout",
     "output_type": "stream",
     "text": [
      "A maior temperatura é: 31\n",
      "A menor temperatura é: 22\n",
      "A maior temperatura é: 31\n",
      "A menor temperatura é: 22\n"
     ]
    }
   ],
   "source": [
    "#Identificando a maior e menor temperatura\n",
    "\n",
    "maior_temp = temperaturas[0]\n",
    "menor_temp = temperaturas[0]\n",
    "\n",
    "for n in range(0, qtd_temperaturas):\n",
    "    if temperaturas[n] >= maior_temp:\n",
    "        maior_temp = temperaturas[n]\n",
    "    if temperaturas[n] <= menor_temp:\n",
    "        menor_temp = temperaturas[n]\n",
    "\n",
    "print(f'A maior temperatura é: {maior_temp}')\n",
    "print(f'A menor temperatura é: {menor_temp}')\n",
    "\n",
    "#Utilizando funções internas padrão\n",
    "\n",
    "print(f'A maior temperatura é: {max(temperaturas)}')\n",
    "print(f'A menor temperatura é: {min(temperaturas)}')"
   ]
  },
  {
   "cell_type": "code",
   "execution_count": 84,
   "id": "a6bab5ef-5771-46c5-b7c0-43d872254287",
   "metadata": {},
   "outputs": [
    {
     "name": "stdout",
     "output_type": "stream",
     "text": [
      "Houve 1 dia(s) com temperatura acima de 30°C e a temperatura foi de 31°C\n"
     ]
    }
   ],
   "source": [
    "#Verificando se houve temperatura maior que 30\n",
    "\n",
    "maior30 = []\n",
    "\n",
    "for n in range (0, qtd_temperaturas):\n",
    "    if temperaturas[n] > 30:\n",
    "        maior30.append(temperaturas[n])\n",
    "\n",
    "if len(maior30) > 0:    \n",
    "    print(f'Houve {len(maior30)} dia(s) com temperatura acima de 30°C e a temperatura foi de {max(maior30)}°C')\n",
    "else:\n",
    "    print(\"Não houve dias com temperatura acima de 30°C\")"
   ]
  }
 ],
 "metadata": {
  "kernelspec": {
   "display_name": "Python [conda env:base] *",
   "language": "python",
   "name": "conda-base-py"
  },
  "language_info": {
   "codemirror_mode": {
    "name": "ipython",
    "version": 3
   },
   "file_extension": ".py",
   "mimetype": "text/x-python",
   "name": "python",
   "nbconvert_exporter": "python",
   "pygments_lexer": "ipython3",
   "version": "3.12.7"
  }
 },
 "nbformat": 4,
 "nbformat_minor": 5
}
