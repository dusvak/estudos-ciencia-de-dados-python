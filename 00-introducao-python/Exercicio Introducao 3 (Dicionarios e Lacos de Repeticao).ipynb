{
 "cells": [
  {
   "cell_type": "markdown",
   "id": "dc2e5c91-5d2c-47de-aa7e-89884bf4d148",
   "metadata": {},
   "source": [
    "<font size=\"5\">Exercício : Contagem de Frequência (Dicionários e Laços\n",
    "de Repetição)</font>"
   ]
  },
  {
   "cell_type": "markdown",
   "id": "aa2a5e3f-1390-4ef2-977f-adec54d11f00",
   "metadata": {},
   "source": [
    "<font size=\"4\">Você tem uma lista de palavras que representam categorias de produtos em um ecommerce. Crie um programa que:</font>\n",
    "\n",
    "<font size=\"4\">1. Conte a frequência de cada categoria na lista.</font>\n",
    "\n",
    "<font size=\"4\">2. Armazene os resultados em um dicionário, onde as chaves são as categorias e os valores são suas contagens.</font>\n",
    "\n",
    "<font size=\"4\">3. Imprima o dicionário resultante.</font>\n",
    "\n",
    "<font size=\"4\">Exemplo de dados: categorias = ['eletronicos', 'roupas', 'eletronicos', 'livros', 'roupas', 'eletronicos', 'brinquedos']</font>"
   ]
  },
  {
   "cell_type": "code",
   "execution_count": 10,
   "id": "405ce286-2c62-4590-9739-8c41ddcfc19f",
   "metadata": {},
   "outputs": [
    {
     "data": {
      "text/plain": [
       "['eletronicos',\n",
       " 'roupas',\n",
       " 'eletronicos',\n",
       " 'livros',\n",
       " 'roupas',\n",
       " 'eletronicos',\n",
       " 'brinquedos']"
      ]
     },
     "execution_count": 10,
     "metadata": {},
     "output_type": "execute_result"
    }
   ],
   "source": [
    "#Criando lista categorias\n",
    "\n",
    "categorias = ['eletronicos', 'roupas', 'eletronicos', 'livros', 'roupas', 'eletronicos', 'brinquedos']\n",
    "categorias"
   ]
  },
  {
   "cell_type": "code",
   "execution_count": 70,
   "id": "01542579-1beb-41c0-ac52-96564d92a003",
   "metadata": {},
   "outputs": [
    {
     "name": "stdout",
     "output_type": "stream",
     "text": [
      "A categoria eletronicos aparece um total de 3 vezes na lista\n",
      "A categoria roupas aparece um total de 2 vezes na lista\n",
      "A categoria livros aparece um total de 1 vezes na lista\n",
      "A categoria brinquedos aparece um total de 1 vezes na lista\n"
     ]
    }
   ],
   "source": [
    "#Contando a frequência de cada categoria da lista\n",
    "\n",
    "sem_repetido = []\n",
    "\n",
    "for n in range (0, len(categorias)):\n",
    "    freq = categorias.count(categorias[n])\n",
    "    \n",
    "    if categorias[n] not in sem_repetido:\n",
    "        sem_repetido.append(categorias[n])\n",
    "        print(f'A categoria {categorias[n]} aparece um total de {freq} vezes na lista')"
   ]
  },
  {
   "cell_type": "code",
   "execution_count": 97,
   "id": "3ff5f4be-f53f-4fc7-b22d-9cf60947a5ef",
   "metadata": {},
   "outputs": [],
   "source": [
    "#Criando dicionario com categoria:contagem\n",
    "\n",
    "categorias_dict = {}\n",
    "\n",
    "for n in range (0, len(categorias)):\n",
    "    cat = categorias[n]\n",
    "    freq = categorias.count(categorias[n])\n",
    "    categorias_dict.update({cat : freq})"
   ]
  },
  {
   "cell_type": "code",
   "execution_count": 99,
   "id": "b32d645a-91fa-4a95-b1d6-6053128c3992",
   "metadata": {},
   "outputs": [
    {
     "name": "stdout",
     "output_type": "stream",
     "text": [
      "{'eletronicos': 3, 'roupas': 2, 'livros': 1, 'brinquedos': 1}\n"
     ]
    }
   ],
   "source": [
    "#Imprimindo dicionário com categoria:contagem\n",
    "\n",
    "print(categorias_dict)"
   ]
  }
 ],
 "metadata": {
  "kernelspec": {
   "display_name": "Python [conda env:base] *",
   "language": "python",
   "name": "conda-base-py"
  },
  "language_info": {
   "codemirror_mode": {
    "name": "ipython",
    "version": 3
   },
   "file_extension": ".py",
   "mimetype": "text/x-python",
   "name": "python",
   "nbconvert_exporter": "python",
   "pygments_lexer": "ipython3",
   "version": "3.12.7"
  }
 },
 "nbformat": 4,
 "nbformat_minor": 5
}
