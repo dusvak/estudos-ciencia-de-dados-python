{
 "cells": [
  {
   "cell_type": "markdown",
   "id": "31086222-05c2-4d1b-9288-59c7ef5efc41",
   "metadata": {},
   "source": [
    "<font size=\"5\">Exercício : Filtragem de Dados (Listas, Funções e\n",
    "Condicionais)</font>"
   ]
  },
  {
   "cell_type": "markdown",
   "id": "663d1177-8e04-4893-9132-f0bdf1545714",
   "metadata": {},
   "source": [
    "<font size=\"4\">Você possui uma lista de números inteiros. Crie uma função que receba essa lista e retorne\n",
    "uma nova lista contendo apenas os números pares.</font>\n",
    "\n",
    "<font size=\"4\">Exemplo de dados: numeros = [1,2,3,4,5,6,7,8,9,10]</font>"
   ]
  },
  {
   "cell_type": "code",
   "execution_count": 31,
   "id": "a74ab5a1-5c1a-4a28-82c4-b424a4c791bc",
   "metadata": {},
   "outputs": [],
   "source": [
    "#Criando função\n",
    "\n",
    "def encontrar_pares(lista):\n",
    "    pares = []\n",
    "    for n in lista:\n",
    "        if n % 2 == 0:\n",
    "            pares.append(n)\n",
    "    return pares"
   ]
  },
  {
   "cell_type": "code",
   "execution_count": 33,
   "id": "38df9b26-aae1-44f4-bca1-56e2cd39ee4f",
   "metadata": {},
   "outputs": [],
   "source": [
    "#Criando lista\n",
    "\n",
    "numeros = [1, 2, 3, 4, 5, 6, 7, 8, 9, 10]"
   ]
  },
  {
   "cell_type": "code",
   "execution_count": 39,
   "id": "c26aa825-edce-4c47-92df-1241722a74ed",
   "metadata": {},
   "outputs": [
    {
     "name": "stdout",
     "output_type": "stream",
     "text": [
      "[2, 4, 6, 8, 10]\n"
     ]
    }
   ],
   "source": [
    "#Chamando a função\n",
    "\n",
    "pares = encontrar_pares(numeros)\n",
    "\n",
    "print(pares)"
   ]
  }
 ],
 "metadata": {
  "kernelspec": {
   "display_name": "Python [conda env:base] *",
   "language": "python",
   "name": "conda-base-py"
  },
  "language_info": {
   "codemirror_mode": {
    "name": "ipython",
    "version": 3
   },
   "file_extension": ".py",
   "mimetype": "text/x-python",
   "name": "python",
   "nbconvert_exporter": "python",
   "pygments_lexer": "ipython3",
   "version": "3.12.7"
  }
 },
 "nbformat": 4,
 "nbformat_minor": 5
}
