{
 "cells": [
  {
   "cell_type": "markdown",
   "id": "2d6018c4-785e-40e0-b4b7-2259a22ebe72",
   "metadata": {},
   "source": [
    "<font size=\"5\">Exercício : Manipulação de Dados de Alunos (Tuplas, Listas de Tuplas e Funções)</font>"
   ]
  },
  {
   "cell_type": "markdown",
   "id": "bcfe94dd-a9d3-467b-842c-90422cd66189",
   "metadata": {},
   "source": [
    "<font size=\"4\">Crie um programa para gerenciar informações de alunos. Cada aluno deve ser representado\n",
    "por uma tupla contendo (nome, idade, nota). Crie uma lista para armazenar essas tuplas.</font>\n",
    "\n",
    "<font size=\"4\">1. Adicione pelo menos 3 alunos à lista</font>\n",
    "\n",
    "<font size=\"4\">2. Crie uma função que receba a lista de alunos e retorne a média das notas de todos os alunos</font>\n",
    "\n",
    "<font size=\"4\">3. Crie uma função que receba a lista de alunos e imprima o nome e a idade de todos os\n",
    "alunos com nota superior a 7.\n",
    "</font>\n",
    "\n",
    "<font size=\"4\"> alunos = [('Alice',20,8.5), ('Bruno',22,6.0), ('Carla',21,9.2)]</font>"
   ]
  },
  {
   "cell_type": "code",
   "execution_count": 17,
   "id": "8b3e65c8-77ba-450c-86d1-d38d74e0aaf6",
   "metadata": {},
   "outputs": [],
   "source": [
    "#Criando lista de tuplas\n",
    "\n",
    "alunos = [('Alice',20,8.5), ('Bruno',22,6.0), ('Carla',21,9.2)]"
   ]
  },
  {
   "cell_type": "code",
   "execution_count": 83,
   "id": "c63fc248-2b0e-4c79-bffb-8b11646b70cf",
   "metadata": {},
   "outputs": [
    {
     "name": "stdout",
     "output_type": "stream",
     "text": [
      "A média das notas dos alunos é: 7.90\n"
     ]
    }
   ],
   "source": [
    "#Criando e chamando função para retornar média das notas\n",
    "\n",
    "def media_notas(lista):\n",
    "    notas = [notas[2] for notas in lista]\n",
    "    soma = sum(notas)\n",
    "    media = soma/len(notas)\n",
    "    return print(f'A média das notas dos alunos é: {media:.2f}')\n",
    "\n",
    "media_notas(alunos)"
   ]
  },
  {
   "cell_type": "code",
   "execution_count": 129,
   "id": "195dc9d3-0a4c-4db0-a2d5-b616a2e92ecc",
   "metadata": {},
   "outputs": [
    {
     "name": "stdout",
     "output_type": "stream",
     "text": [
      "O aluno(a) Alice de 20 anos de idade recebeu uma nota maior que 7!\n",
      "O aluno(a) Carla de 21 anos de idade recebeu uma nota maior que 7!\n"
     ]
    }
   ],
   "source": [
    "#Criando função nome e idade de alunos nota maior que 7\n",
    "\n",
    "def alunos_maior_que_7(lista):\n",
    "    nomes = [nomes[0] for nomes in lista]\n",
    "    idades = [idades[1] for idades in lista]\n",
    "    notas = [notas[2] for notas in lista]\n",
    "    nomes_maior_que_7 = []\n",
    "    idades_maior_que_7 = []\n",
    "    for n in range(0, len(notas)):\n",
    "        if notas[n] > 7:\n",
    "            nomes_maior_que_7.append(nomes[n])\n",
    "            idades_maior_que_7.append(idades[n]) \n",
    "            print(f'O aluno(a) {nomes[n]} de {idades[n]} anos de idade recebeu uma nota maior que 7!')\n",
    "\n",
    "alunos_maior_que_7(alunos)"
   ]
  }
 ],
 "metadata": {
  "kernelspec": {
   "display_name": "Python [conda env:base] *",
   "language": "python",
   "name": "conda-base-py"
  },
  "language_info": {
   "codemirror_mode": {
    "name": "ipython",
    "version": 3
   },
   "file_extension": ".py",
   "mimetype": "text/x-python",
   "name": "python",
   "nbconvert_exporter": "python",
   "pygments_lexer": "ipython3",
   "version": "3.12.7"
  }
 },
 "nbformat": 4,
 "nbformat_minor": 5
}
