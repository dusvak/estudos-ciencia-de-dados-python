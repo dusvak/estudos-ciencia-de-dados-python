{
 "cells": [
  {
   "cell_type": "markdown",
   "id": "cb45cad7-698a-42d5-b2a6-9e27d14a455f",
   "metadata": {},
   "source": [
    "<font size=\"5\">Exercício : Operações com Conjuntos (Sets)</font>"
   ]
  },
  {
   "cell_type": "markdown",
   "id": "cda44a83-34d4-472d-a1f3-fffe976e7454",
   "metadata": {},
   "source": [
    "<font size=\"4\">Você tem duas listas de IDs de clientes: uma para clientes que compraram no último mês e\n",
    "outra para clientes que visitaram o site no último mês. Crie um programa que:</font>\n",
    "\n",
    "<font size=\"4\">1. Converta as listas em conjuntos (sets).</font>\n",
    "\n",
    "<font size=\"4\">2. Encontre e imprima os IDs dos clientes que compraram E visitaram o site (interseção).\n",
    "</font>\n",
    "\n",
    "<font size=\"4\">3. Encontre e imprima os IDs dos clientes que visitaram o site, mas NÃO compraram (diferença).</font>\n",
    "\n",
    "<font size=\"4\">4. Encontre e imprima os IDs de todos os clientes únicos que compraram OU visitaram o site (união). </font>\n",
    "\n",
    "<font size=\"4\">Exemplo de dados:\n",
    "compraram = [101,102,103,104,105]\n",
    "visitaram = [103,105,106,107,108]\n",
    "</font>"
   ]
  },
  {
   "cell_type": "code",
   "execution_count": 9,
   "id": "5b22c56c-3f7b-4609-8e91-d958b214f0b4",
   "metadata": {},
   "outputs": [],
   "source": [
    "#Criando e convertendo as listas em sets\n",
    "\n",
    "compraram = [101,102,103,104,105]\n",
    "visitaram = [103,105,106,107,108]\n",
    "\n",
    "compraram_set = set(compraram)\n",
    "visitaram_set = set(visitaram)"
   ]
  },
  {
   "cell_type": "code",
   "execution_count": 17,
   "id": "d55c28da-596c-46f4-bfd4-7ba8a3d24676",
   "metadata": {},
   "outputs": [
    {
     "data": {
      "text/plain": [
       "{103, 105}"
      ]
     },
     "execution_count": 17,
     "metadata": {},
     "output_type": "execute_result"
    }
   ],
   "source": [
    "#Analisando clientes que compraram e visitaram (Interseção)\n",
    "\n",
    "compraram_e_visitaram = compraram_set & visitaram_set\n",
    "compraram_e_visitaram"
   ]
  },
  {
   "cell_type": "code",
   "execution_count": 19,
   "id": "b9476f45-0ed7-405b-8506-99dc623db937",
   "metadata": {},
   "outputs": [
    {
     "data": {
      "text/plain": [
       "{106, 107, 108}"
      ]
     },
     "execution_count": 19,
     "metadata": {},
     "output_type": "execute_result"
    }
   ],
   "source": [
    "#Analisando clientes que visitaram mas não compraram (Diferença)\n",
    "\n",
    "visitaram_mas_nao_compraram = visitaram_set - compraram_set\n",
    "visitaram_mas_nao_compraram"
   ]
  },
  {
   "cell_type": "code",
   "execution_count": 21,
   "id": "4e219e03-b1db-4b61-8c6d-d95eaeae7926",
   "metadata": {},
   "outputs": [
    {
     "data": {
      "text/plain": [
       "{101, 102, 103, 104, 105, 106, 107, 108}"
      ]
     },
     "execution_count": 21,
     "metadata": {},
     "output_type": "execute_result"
    }
   ],
   "source": [
    "#Analisando clientes únicos que compraram ou visitaram (União)\n",
    "\n",
    "clientes_unicos = visitaram_set | compraram_set\n",
    "clientes_unicos"
   ]
  }
 ],
 "metadata": {
  "kernelspec": {
   "display_name": "Python [conda env:base] *",
   "language": "python",
   "name": "conda-base-py"
  },
  "language_info": {
   "codemirror_mode": {
    "name": "ipython",
    "version": 3
   },
   "file_extension": ".py",
   "mimetype": "text/x-python",
   "name": "python",
   "nbconvert_exporter": "python",
   "pygments_lexer": "ipython3",
   "version": "3.12.7"
  }
 },
 "nbformat": 4,
 "nbformat_minor": 5
}
