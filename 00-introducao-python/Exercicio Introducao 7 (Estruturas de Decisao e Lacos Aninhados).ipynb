{
 "cells": [
  {
   "cell_type": "markdown",
   "id": "a3057ea8-30ee-4cc9-8c08-2c61f79e143d",
   "metadata": {},
   "source": [
    "<font size=\"5\">Exercício : Validação de Dados (Estruturas de Decisão e\n",
    "Laços Aninhados)\n",
    "</font>"
   ]
  },
  {
   "cell_type": "markdown",
   "id": "e64b63f2-190e-4ffa-8eac-7a665f4b82ac",
   "metadata": {},
   "source": [
    "<font size=\"4\">Você tem uma lista de dicionários, onde cada dicionário representa um registro de dados de\n",
    "um sensor. Cada registro deve ter as chaves 'sensor_id', 'valor' e 'timestamp'. Crie um\n",
    "programa que:</font>\n",
    "\n",
    "<font size=\"4\">1. Itere sobre a lista de registros.\n",
    "</font>\n",
    "\n",
    "<font size=\"4\">2. Para cada registro, verifique se todas as chaves necessárias estão presentes.\n",
    "</font>\n",
    "\n",
    "<font size=\"4\">3. Se alguma chave estiver faltando, imprima uma mensagem de erro e o registro\n",
    "incompleto.\n",
    "</font>\n",
    "\n",
    "<font size=\"4\">4. Se todas as chaves estiverem presentes, imprima o registro como 'Válido'.\n",
    "</font>\n",
    "\n",
    "<font size=\"4\">registros = [\n",
    "{'sensor_id': 'A1', 'valor':25.5, 'timestamp': '2023-01-01 10:00:00'},\n",
    "{'sensor_id': 'B2', 'valor':12.3},\n",
    "{'sensor_id': 'C3', 'valor':30.1, 'timestamp': '2023-01-01 10:02:00'}\n",
    "]\n",
    "</font>"
   ]
  },
  {
   "cell_type": "code",
   "execution_count": 6,
   "id": "4e3f1b7c-c656-48ae-aa59-acff515b3095",
   "metadata": {},
   "outputs": [
    {
     "name": "stdout",
     "output_type": "stream",
     "text": [
      "{'sensor_id': 'A1', 'valor': 25.5, 'timestamp': '2023-01-01 10:00:00'}\n",
      "{'sensor_id': 'B2', 'valor': 12.3}\n",
      "{'sensor_id': 'C3', 'valor': 30.1, 'timestamp': '2023-01-01 10:02:00'}\n"
     ]
    }
   ],
   "source": [
    "#Criando e Iterando com lista de registros\n",
    "\n",
    "registros = [ {'sensor_id': 'A1', 'valor':25.5, 'timestamp': '2023-01-01 10:00:00'}, \n",
    "             {'sensor_id': 'B2', 'valor':12.3}, \n",
    "             {'sensor_id': 'C3', 'valor':30.1, 'timestamp': '2023-01-01 10:02:00'} \n",
    "            ]\n",
    "\n",
    "for n in registros:\n",
    "    print(n)"
   ]
  },
  {
   "cell_type": "code",
   "execution_count": 8,
   "id": "a4bc6fa5-c4c9-4ba8-a225-6b6b14cd2128",
   "metadata": {},
   "outputs": [
    {
     "name": "stdout",
     "output_type": "stream",
     "text": [
      "Algum registro está com chaves faltantes\n"
     ]
    }
   ],
   "source": [
    "#Verificando se todas chaves estão presentes\n",
    "\n",
    "def verificar_chave(registro):\n",
    "    lista_chaves = []\n",
    "    for dicionario in registro:\n",
    "        for chave in dicionario:\n",
    "            lista_chaves.append(chave)\n",
    "            set_chaves = set(lista_chaves)\n",
    "        for chave_u in set_chaves:\n",
    "            if chave_u in dicionario:\n",
    "                continue\n",
    "            else:\n",
    "                print(\"Algum registro está com chaves faltantes\")\n",
    "\n",
    "verificar_chave(registros)"
   ]
  },
  {
   "cell_type": "code",
   "execution_count": 167,
   "id": "3b3557cb-cfe4-44eb-bb11-0ea7d9cc4d68",
   "metadata": {},
   "outputs": [
    {
     "name": "stdout",
     "output_type": "stream",
     "text": [
      "ERRO! O registro de ID: \"B2\" está com a chave \"timestamp\" faltando\n"
     ]
    }
   ],
   "source": [
    "#Verificando qual ID do registro com chave faltante e informando erro\n",
    "\n",
    "def verificar_qual_chave(registro):\n",
    "    \n",
    "    lista_chaves = []\n",
    "    lista_ids = []\n",
    "    \n",
    "    for dicionario in registro:        \n",
    "        for chave in dicionario:\n",
    "            lista_chaves.append(chave)\n",
    "            set_chaves = set(lista_chaves)        \n",
    "        for chave_u in set_chaves:\n",
    "            if chave_u in dicionario:                \n",
    "                continue                \n",
    "            if chave_u not in dicionario:\n",
    "                lista_ids_temp = list(dicionario.values())\n",
    "                lista_ids.append(lista_ids_temp)              \n",
    "                print(f'ERRO! O registro de ID: \"{lista_ids[0][0]}\" está com a chave \"{chave_u}\" faltando')\n",
    "\n",
    "verificar_qual_chave(registros)"
   ]
  }
 ],
 "metadata": {
  "kernelspec": {
   "display_name": "Python [conda env:base] *",
   "language": "python",
   "name": "conda-base-py"
  },
  "language_info": {
   "codemirror_mode": {
    "name": "ipython",
    "version": 3
   },
   "file_extension": ".py",
   "mimetype": "text/x-python",
   "name": "python",
   "nbconvert_exporter": "python",
   "pygments_lexer": "ipython3",
   "version": "3.12.3"
  }
 },
 "nbformat": 4,
 "nbformat_minor": 5
}
