{
 "cells": [
  {
   "cell_type": "markdown",
   "id": "0b69e044-1b52-42cd-9d50-88a9207f104d",
   "metadata": {},
   "source": [
    "<font size=\"5\">Exercício : Processamento de Strings e Funções (Objetos e\n",
    "Funções)\n",
    "</font>"
   ]
  },
  {
   "cell_type": "markdown",
   "id": "3bddba0c-9708-4756-9673-dee36fa1b958",
   "metadata": {},
   "source": [
    "<font size=\"4\">Crie uma função que receba uma string (frase) e retorne um dicionário onde as chaves são\n",
    "as palavras da frase e os valores são o comprimento de cada palavra. Ignore a pontuação e\n",
    "considere as palavras em minúsculas.\n",
    "</font>\n",
    "\n",
    "<font size=\"4\">Exemplo de dados: frase = 'Processamento de Strings e Funções com Python'\n",
    "</font>\n"
   ]
  },
  {
   "cell_type": "code",
   "execution_count": 111,
   "id": "3fcb9401-7ee7-46d4-b5d1-9a6218ee1f26",
   "metadata": {},
   "outputs": [
    {
     "name": "stdin",
     "output_type": "stream",
     "text": [
      "Insira uma frase:  Processamento de Strings e Funções com Python\n"
     ]
    },
    {
     "data": {
      "text/plain": [
       "{'Processamento': 13,\n",
       " 'de': 2,\n",
       " 'Strings': 7,\n",
       " 'e': 1,\n",
       " 'Funções': 7,\n",
       " 'com': 3,\n",
       " 'Python': 6}"
      ]
     },
     "execution_count": 111,
     "metadata": {},
     "output_type": "execute_result"
    }
   ],
   "source": [
    "def string_to_dict(frase):\n",
    "    palavras = frase.split()\n",
    "    comprimento = []\n",
    "    for palavra in palavras:\n",
    "        comprimento.append(len(palavra))\n",
    "    dicionario = dict(zip(palavras, comprimento))\n",
    "    return dicionario\n",
    "\n",
    "frase = input(str(\"Insira uma frase: \"))\n",
    "\n",
    "string_to_dict(frase)"
   ]
  }
 ],
 "metadata": {
  "kernelspec": {
   "display_name": "Python [conda env:base] *",
   "language": "python",
   "name": "conda-base-py"
  },
  "language_info": {
   "codemirror_mode": {
    "name": "ipython",
    "version": 3
   },
   "file_extension": ".py",
   "mimetype": "text/x-python",
   "name": "python",
   "nbconvert_exporter": "python",
   "pygments_lexer": "ipython3",
   "version": "3.12.3"
  }
 },
 "nbformat": 4,
 "nbformat_minor": 5
}
