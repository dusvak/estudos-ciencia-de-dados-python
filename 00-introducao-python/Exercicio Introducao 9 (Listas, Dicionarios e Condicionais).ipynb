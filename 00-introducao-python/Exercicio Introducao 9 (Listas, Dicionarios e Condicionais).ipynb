{
 "cells": [
  {
   "cell_type": "markdown",
   "id": "742c0380-b640-4355-ab1e-e5485ed71a2d",
   "metadata": {},
   "source": [
    "<font size=\"5\">Exercício : Classificação de Dados (Listas, Dicionários e\n",
    "Condicionais)\n",
    "\n",
    "</font>"
   ]
  },
  {
   "cell_type": "markdown",
   "id": "95fe371f-bec2-4a22-a8f1-4b177dc4476d",
   "metadata": {},
   "source": [
    "<font size=\"4\">VVocê tem uma lista de dicionários, onde cada dicionário representa uma pessoa com 'nome'\n",
    "e 'idade'. Crie um programa que:</font>\n",
    "\n",
    "<font size=\"4\">1. Crie duas novas listas vazias: maiores_de_idade e menores_de_idade .\n",
    "</font>\n",
    "\n",
    "<font size=\"4\">2. Itere sobre a lista de pessoas.\n",
    "</font>\n",
    "\n",
    "<font size=\"4\">3. Para cada pessoa, adicione-a à lista maiores_de_idade se a idade for 18 ou mais, caso\n",
    "contrário, adicione-a à lista menores_de_idade.\n",
    "</font>\n",
    "\n",
    "<font size=\"4\">4. Imprima as duas listas resultantes.\n",
    "</font>\n",
    "\n",
    "<font size=\"4\">Exemplo de dados:</font>\n",
    "\n",
    "<font size=\"4\">pessoas = [\n",
    "{'nome': 'Ana', 'idade': 17},\n",
    "{'nome': 'João', 'idade': 22},\n",
    "{'nome': 'Maria', 'idade': 19},\n",
    "{'nome': 'Pedro', 'idade': 16}\n",
    "]\n",
    "</font>"
   ]
  },
  {
   "cell_type": "code",
   "execution_count": 35,
   "id": "496ce8cf-bc35-42dd-901e-4a68a116dcbf",
   "metadata": {},
   "outputs": [
    {
     "name": "stdout",
     "output_type": "stream",
     "text": [
      "{'nome': 'Ana', 'idade': 17}\n",
      "{'nome': 'João', 'idade': 22}\n",
      "{'nome': 'Maria', 'idade': 19}\n",
      "{'nome': 'Pedro', 'idade': 16}\n"
     ]
    }
   ],
   "source": [
    "pessoas = [ {'nome': 'Ana', 'idade': 17}, {'nome': 'João', 'idade': 22}, {'nome': 'Maria', 'idade': 19}, {'nome': 'Pedro', 'idade': 16} ]\n",
    "\n",
    "for n in pessoas:\n",
    "    print(n)"
   ]
  },
  {
   "cell_type": "code",
   "execution_count": 37,
   "id": "09089583-0f9c-41fd-bb51-97a3226aa617",
   "metadata": {},
   "outputs": [
    {
     "name": "stdout",
     "output_type": "stream",
     "text": [
      "['João', 'Maria']\n",
      "['Ana', 'Pedro']\n"
     ]
    }
   ],
   "source": [
    "maiores_de_idade = []\n",
    "menores_de_idade = []\n",
    "\n",
    "for dicionario in pessoas:\n",
    "    if dicionario['idade'] > 18:\n",
    "        maiores_de_idade.append(dicionario['nome'])\n",
    "    if dicionario['idade'] < 18:\n",
    "        menores_de_idade.append(dicionario['nome'])\n",
    "\n",
    "print(maiores_de_idade)\n",
    "print(menores_de_idade)"
   ]
  }
 ],
 "metadata": {
  "kernelspec": {
   "display_name": "Python [conda env:base] *",
   "language": "python",
   "name": "conda-base-py"
  },
  "language_info": {
   "codemirror_mode": {
    "name": "ipython",
    "version": 3
   },
   "file_extension": ".py",
   "mimetype": "text/x-python",
   "name": "python",
   "nbconvert_exporter": "python",
   "pygments_lexer": "ipython3",
   "version": "3.12.3"
  }
 },
 "nbformat": 4,
 "nbformat_minor": 5
}
