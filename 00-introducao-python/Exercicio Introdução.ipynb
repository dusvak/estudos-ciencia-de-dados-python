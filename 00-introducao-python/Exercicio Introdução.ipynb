{
 "cells": [
  {
   "cell_type": "markdown",
   "id": "9c416adc-a59b-42d3-8776-0c4fd91466e2",
   "metadata": {},
   "source": [
    "Faça um programa que tenha uma função chamada amplitude. (Amplitude é a diferença entre o maior e o menor valor de um conjunto de valores)\n",
    "A função deve receber uma lista e imprimir a amplitude.\n",
    "Crie também um código para testar sua função."
   ]
  },
  {
   "cell_type": "code",
   "execution_count": 20,
   "id": "91789f2c-e28e-4dab-a8f5-a8be8f1ddb55",
   "metadata": {},
   "outputs": [
    {
     "name": "stdout",
     "output_type": "stream",
     "text": [
      "Insira 5 números\n"
     ]
    },
    {
     "name": "stdin",
     "output_type": "stream",
     "text": [
      " 10\n",
      " 20\n",
      " 30\n",
      " 40\n",
      " 50\n"
     ]
    },
    {
     "name": "stdout",
     "output_type": "stream",
     "text": [
      "A amplitude dos valores é:  40\n"
     ]
    }
   ],
   "source": [
    "def amplitude(x):\n",
    "    maior = max(x)\n",
    "    menor = min(x)\n",
    "    return print(\"A amplitude dos valores é: \", maior - menor)\n",
    "\n",
    "listaamp = []\n",
    "print(\"Insira 5 números\")\n",
    "count = 1\n",
    "while count <= 5:\n",
    "    x = int(input())\n",
    "    listaamp.append(x)\n",
    "    count += 1\n",
    "\n",
    "amplitude(listaamp)"
   ]
  },
  {
   "cell_type": "markdown",
   "id": "ccfc6766-b8a6-4390-a14b-ff187db179de",
   "metadata": {},
   "source": [
    "Faça uma função que receba uma string e imprima esta string na forma vertical.\n",
    "Por exemplo, se receber python, deve imprimir\n",
    "P\n",
    "y\n",
    "t\n",
    "h\n",
    "o\n",
    "n\n",
    "Crie também um código para testar sua função"
   ]
  },
  {
   "cell_type": "code",
   "execution_count": 24,
   "id": "45adb6ae-8ab5-4be7-9148-d05498680312",
   "metadata": {},
   "outputs": [
    {
     "name": "stdin",
     "output_type": "stream",
     "text": [
      "Insira uma palavra para vê-la na vertical:  Python\n"
     ]
    },
    {
     "name": "stdout",
     "output_type": "stream",
     "text": [
      "P\n",
      "y\n",
      "t\n",
      "h\n",
      "o\n",
      "n\n"
     ]
    }
   ],
   "source": [
    "def vertical (x):\n",
    "    for n in x:\n",
    "        print (n)\n",
    "\n",
    "p = input(\"Insira uma palavra para vê-la na vertical: \")\n",
    "vertical(p)"
   ]
  },
  {
   "cell_type": "markdown",
   "id": "f86ec1ab-43e2-4fd9-b547-db791d7281d4",
   "metadata": {},
   "source": [
    "Crie um programa que leia o peso de uma carga em números inteiros.\n",
    "Se o peso for até 10kg, informe que o valor será de R$$50,00.\n",
    "Entre 11 e 20kg, informe que o valor será de R$80,00.\n",
    "Se for maior que 20kg, informe que o transporte não é aceito.\n",
    "Teste vários pesos."
   ]
  },
  {
   "cell_type": "code",
   "execution_count": 50,
   "id": "b5d5c952-9060-4bfc-bbce-562a6bb06bbb",
   "metadata": {},
   "outputs": [
    {
     "name": "stdin",
     "output_type": "stream",
     "text": [
      "Digite o peso da carga em kg:  15\n"
     ]
    },
    {
     "name": "stdout",
     "output_type": "stream",
     "text": [
      "O valor será de R$80,00.\n"
     ]
    }
   ],
   "source": [
    "peso = int(input(\"Digite o peso da carga em kg: \"))\n",
    "\n",
    "if peso <= 10 and peso > 0:\n",
    "    print(\"O valor será de R$50,00.\")\n",
    "elif peso > 10 and peso <= 20:\n",
    "    print(\"O valor será de R$80,00.\")\n",
    "elif peso > 20:\n",
    "    print(\"O transporte não é aceito por excesso de peso.\")\n",
    "else:\n",
    "    print(\"O valor não pode ser igual ou menor que zero.\")"
   ]
  }
 ],
 "metadata": {
  "kernelspec": {
   "display_name": "Python [conda env:base] *",
   "language": "python",
   "name": "conda-base-py"
  },
  "language_info": {
   "codemirror_mode": {
    "name": "ipython",
    "version": 3
   },
   "file_extension": ".py",
   "mimetype": "text/x-python",
   "name": "python",
   "nbconvert_exporter": "python",
   "pygments_lexer": "ipython3",
   "version": "3.12.7"
  }
 },
 "nbformat": 4,
 "nbformat_minor": 5
}
