{
 "cells": [
  {
   "cell_type": "markdown",
   "id": "aeb8867a-697c-4502-9bb6-bce35b3cdd72",
   "metadata": {},
   "source": [
    "<font size=\"5\">Exercício - Tratar dados de \"tempo.csv\"</font>"
   ]
  },
  {
   "cell_type": "markdown",
   "id": "577de4b4-ff75-470a-a067-2b1062cb0b6b",
   "metadata": {},
   "source": [
    "<font size=\"4\">Aparência: sol, nublado, chuva</font>\n",
    "\n",
    "<font size=\"4\">Temperatura: -130 ~ 130 F</font>\n",
    "\n",
    "<font size=\"4\">Umidade: 0 ~ 100</font>\n",
    "\n",
    "<font size=\"4\">Jogar: sim/não</font>\n",
    "\n",
    "<font size=\"4\">Tratar valores NaN</font>"
   ]
  },
  {
   "cell_type": "code",
   "execution_count": 106,
   "id": "933c2b91-c697-48ec-a10f-4e031740fc9d",
   "metadata": {},
   "outputs": [],
   "source": [
    "import pandas as pd\n",
    "import seaborn as srn\n",
    "import statistics as sts"
   ]
  },
  {
   "cell_type": "code",
   "execution_count": 108,
   "id": "df6f39c2-700a-4065-a2a4-eb12ace8987c",
   "metadata": {},
   "outputs": [],
   "source": [
    "#Importando dados\n",
    "\n",
    "dataset = pd.read_csv(\"../data/tempo.csv\", sep =\";\")"
   ]
  },
  {
   "cell_type": "code",
   "execution_count": 110,
   "id": "ac7d3a0a-755e-4784-9143-8ffb79dc316a",
   "metadata": {},
   "outputs": [
    {
     "data": {
      "text/plain": [
       "(14, 5)"
      ]
     },
     "execution_count": 110,
     "metadata": {},
     "output_type": "execute_result"
    }
   ],
   "source": [
    "#Visualizando tamanho da tabela\n",
    "\n",
    "dataset.shape"
   ]
  },
  {
   "cell_type": "code",
   "execution_count": 112,
   "id": "b65a5413-07cf-4968-a349-b908e0eba653",
   "metadata": {},
   "outputs": [
    {
     "data": {
      "text/html": [
       "<div>\n",
       "<style scoped>\n",
       "    .dataframe tbody tr th:only-of-type {\n",
       "        vertical-align: middle;\n",
       "    }\n",
       "\n",
       "    .dataframe tbody tr th {\n",
       "        vertical-align: top;\n",
       "    }\n",
       "\n",
       "    .dataframe thead th {\n",
       "        text-align: right;\n",
       "    }\n",
       "</style>\n",
       "<table border=\"1\" class=\"dataframe\">\n",
       "  <thead>\n",
       "    <tr style=\"text-align: right;\">\n",
       "      <th></th>\n",
       "      <th>Aparencia</th>\n",
       "      <th>Temperatura</th>\n",
       "      <th>Umidade</th>\n",
       "      <th>Vento</th>\n",
       "      <th>Jogar</th>\n",
       "    </tr>\n",
       "  </thead>\n",
       "  <tbody>\n",
       "    <tr>\n",
       "      <th>0</th>\n",
       "      <td>sol</td>\n",
       "      <td>85</td>\n",
       "      <td>85.0</td>\n",
       "      <td>FALSO</td>\n",
       "      <td>nao</td>\n",
       "    </tr>\n",
       "    <tr>\n",
       "      <th>1</th>\n",
       "      <td>sol</td>\n",
       "      <td>80</td>\n",
       "      <td>90.0</td>\n",
       "      <td>VERDADEIRO</td>\n",
       "      <td>nao</td>\n",
       "    </tr>\n",
       "    <tr>\n",
       "      <th>2</th>\n",
       "      <td>nublado</td>\n",
       "      <td>83</td>\n",
       "      <td>86.0</td>\n",
       "      <td>FALSO</td>\n",
       "      <td>sim</td>\n",
       "    </tr>\n",
       "    <tr>\n",
       "      <th>3</th>\n",
       "      <td>chuva</td>\n",
       "      <td>70</td>\n",
       "      <td>NaN</td>\n",
       "      <td>FALSO</td>\n",
       "      <td>sim</td>\n",
       "    </tr>\n",
       "    <tr>\n",
       "      <th>4</th>\n",
       "      <td>chuva</td>\n",
       "      <td>68</td>\n",
       "      <td>80.0</td>\n",
       "      <td>FALSO</td>\n",
       "      <td>sim</td>\n",
       "    </tr>\n",
       "    <tr>\n",
       "      <th>5</th>\n",
       "      <td>chuva</td>\n",
       "      <td>65</td>\n",
       "      <td>70.0</td>\n",
       "      <td>VERDADEIRO</td>\n",
       "      <td>nao</td>\n",
       "    </tr>\n",
       "    <tr>\n",
       "      <th>6</th>\n",
       "      <td>menos</td>\n",
       "      <td>64</td>\n",
       "      <td>65.0</td>\n",
       "      <td>VERDADEIRO</td>\n",
       "      <td>sim</td>\n",
       "    </tr>\n",
       "    <tr>\n",
       "      <th>7</th>\n",
       "      <td>sol</td>\n",
       "      <td>1220</td>\n",
       "      <td>95.0</td>\n",
       "      <td>FALSO</td>\n",
       "      <td>nao</td>\n",
       "    </tr>\n",
       "    <tr>\n",
       "      <th>8</th>\n",
       "      <td>sol</td>\n",
       "      <td>69</td>\n",
       "      <td>70.0</td>\n",
       "      <td>FALSO</td>\n",
       "      <td>sim</td>\n",
       "    </tr>\n",
       "    <tr>\n",
       "      <th>9</th>\n",
       "      <td>chuva</td>\n",
       "      <td>75</td>\n",
       "      <td>200.0</td>\n",
       "      <td>NaN</td>\n",
       "      <td>sim</td>\n",
       "    </tr>\n",
       "    <tr>\n",
       "      <th>10</th>\n",
       "      <td>sol</td>\n",
       "      <td>75</td>\n",
       "      <td>70.0</td>\n",
       "      <td>VERDADEIRO</td>\n",
       "      <td>sim</td>\n",
       "    </tr>\n",
       "    <tr>\n",
       "      <th>11</th>\n",
       "      <td>nublado</td>\n",
       "      <td>72</td>\n",
       "      <td>90.0</td>\n",
       "      <td>VERDADEIRO</td>\n",
       "      <td>sim</td>\n",
       "    </tr>\n",
       "    <tr>\n",
       "      <th>12</th>\n",
       "      <td>nublado</td>\n",
       "      <td>81</td>\n",
       "      <td>75.0</td>\n",
       "      <td>FALSO</td>\n",
       "      <td>sim</td>\n",
       "    </tr>\n",
       "    <tr>\n",
       "      <th>13</th>\n",
       "      <td>chuva</td>\n",
       "      <td>71</td>\n",
       "      <td>91.0</td>\n",
       "      <td>VERDADEIRO</td>\n",
       "      <td>nao</td>\n",
       "    </tr>\n",
       "  </tbody>\n",
       "</table>\n",
       "</div>"
      ],
      "text/plain": [
       "   Aparencia  Temperatura  Umidade       Vento Jogar\n",
       "0        sol           85     85.0       FALSO   nao\n",
       "1        sol           80     90.0  VERDADEIRO   nao\n",
       "2    nublado           83     86.0       FALSO   sim\n",
       "3      chuva           70      NaN       FALSO   sim\n",
       "4      chuva           68     80.0       FALSO   sim\n",
       "5      chuva           65     70.0  VERDADEIRO   nao\n",
       "6      menos           64     65.0  VERDADEIRO   sim\n",
       "7        sol         1220     95.0       FALSO   nao\n",
       "8        sol           69     70.0       FALSO   sim\n",
       "9      chuva           75    200.0         NaN   sim\n",
       "10       sol           75     70.0  VERDADEIRO   sim\n",
       "11   nublado           72     90.0  VERDADEIRO   sim\n",
       "12   nublado           81     75.0       FALSO   sim\n",
       "13     chuva           71     91.0  VERDADEIRO   nao"
      ]
     },
     "execution_count": 112,
     "metadata": {},
     "output_type": "execute_result"
    }
   ],
   "source": [
    "#Visualizando tabela inteira\n",
    "\n",
    "dataset\n",
    "\n",
    "#Conclusão:\n",
    "#Dados fora do domínio: Aparencia, Temperatura, Umidade\n",
    "#Dados NaN: Umidade, Vento\n",
    "\n",
    "#Porém, será feita uma análise específica para cada coluna."
   ]
  },
  {
   "cell_type": "markdown",
   "id": "dbc1d08e-c32d-4392-9f36-6f40abecef58",
   "metadata": {},
   "source": [
    "<font size=\"4\">Explorando dados categóricos</font>"
   ]
  },
  {
   "cell_type": "code",
   "execution_count": 115,
   "id": "32676696-224c-453b-ace9-959ff3a28c97",
   "metadata": {},
   "outputs": [
    {
     "data": {
      "text/plain": [
       "Aparencia      0\n",
       "Temperatura    0\n",
       "Umidade        1\n",
       "Vento          1\n",
       "Jogar          0\n",
       "dtype: int64"
      ]
     },
     "execution_count": 115,
     "metadata": {},
     "output_type": "execute_result"
    }
   ],
   "source": [
    "#Procurando por dados NaN em todo dataset\n",
    "\n",
    "dataset.isnull().sum()\n",
    "\n",
    "#Conclusão: Há valores NaN nas colunas Umidade e Vento"
   ]
  },
  {
   "cell_type": "code",
   "execution_count": 117,
   "id": "e36f532b-81a5-44e1-b9a2-32391a950787",
   "metadata": {},
   "outputs": [
    {
     "data": {
      "text/plain": [
       "Aparencia\n",
       "chuva      5\n",
       "menos      1\n",
       "nublado    3\n",
       "sol        5\n",
       "dtype: int64"
      ]
     },
     "execution_count": 117,
     "metadata": {},
     "output_type": "execute_result"
    }
   ],
   "source": [
    "#Aparência\n",
    "\n",
    "#Verificando por dados fora do domínio\n",
    "aparencia = dataset.groupby([\"Aparencia\"]).size()\n",
    "aparencia\n",
    "\n",
    "#Conclusão: Há valores fora do domínio"
   ]
  },
  {
   "cell_type": "code",
   "execution_count": 177,
   "id": "a4c8e789-4c7d-4cd5-b4f4-68ea6d44b1e1",
   "metadata": {},
   "outputs": [
    {
     "data": {
      "text/plain": [
       "Text(0.5, 1.0, 'Vento')"
      ]
     },
     "execution_count": 177,
     "metadata": {},
     "output_type": "execute_result"
    },
    {
     "data": {
      "image/png": "[encoded data removed]",
      "text/plain": [
       "<Figure size 640x480 with 1 Axes>"
      ]
     },
     "metadata": {},
     "output_type": "display_data"
    }
   ],
   "source": [
    "#Utilizando grafico de barras para melhor visualização de dados fora do domínio\n",
    "\n",
    "vento.plot.bar(color=\"gray\").set_title(\"Vento\")"
   ]
  },
  {
   "cell_type": "code",
   "execution_count": 119,
   "id": "f1344eec-4bb5-4677-954f-1835490f9f71",
   "metadata": {},
   "outputs": [
    {
     "data": {
      "text/plain": [
       "Vento\n",
       "FALSO         7\n",
       "VERDADEIRO    6\n",
       "dtype: int64"
      ]
     },
     "execution_count": 119,
     "metadata": {},
     "output_type": "execute_result"
    }
   ],
   "source": [
    "#Vento\n",
    "\n",
    "vento = dataset.groupby([\"Vento\"]).size()\n",
    "vento\n",
    "\n",
    "#Conclusão: Não há valores fora do domínio"
   ]
  },
  {
   "cell_type": "code",
   "execution_count": 121,
   "id": "7a530803-c287-43e7-9a66-1048a17a5c95",
   "metadata": {},
   "outputs": [
    {
     "data": {
      "text/plain": [
       "Jogar\n",
       "nao    5\n",
       "sim    9\n",
       "dtype: int64"
      ]
     },
     "execution_count": 121,
     "metadata": {},
     "output_type": "execute_result"
    }
   ],
   "source": [
    "#Jogar\n",
    "\n",
    "jogar = dataset.groupby([\"Jogar\"]).size()\n",
    "jogar\n",
    "\n",
    "#Conclusão: Não há valores fora do domínio"
   ]
  },
  {
   "cell_type": "markdown",
   "id": "dd89bfac-3553-4945-964f-45b7d00c7c82",
   "metadata": {},
   "source": [
    "<font size=\"4\">Explorando dados numéricos</font>"
   ]
  },
  {
   "cell_type": "code",
   "execution_count": 124,
   "id": "b506df1b-6a74-4754-ad57-f7c4da81f25a",
   "metadata": {},
   "outputs": [
    {
     "data": {
      "text/plain": [
       "count      14.000000\n",
       "mean      155.571429\n",
       "std       306.433759\n",
       "min        64.000000\n",
       "25%        69.250000\n",
       "50%        73.500000\n",
       "75%        80.750000\n",
       "max      1220.000000\n",
       "Name: Temperatura, dtype: float64"
      ]
     },
     "execution_count": 124,
     "metadata": {},
     "output_type": "execute_result"
    }
   ],
   "source": [
    "#Temperatura\n",
    "\n",
    "temperatura = dataset[\"Temperatura\"].describe()\n",
    "temperatura\n",
    "\n",
    "#Conclusão: Há outlier"
   ]
  },
  {
   "cell_type": "code",
   "execution_count": 175,
   "id": "9a8fe782-3a9d-40d2-a847-37e09481c0d7",
   "metadata": {},
   "outputs": [
    {
     "data": {
      "text/plain": [
       "Text(0.5, 1.0, 'Temperatura')"
      ]
     },
     "execution_count": 175,
     "metadata": {},
     "output_type": "execute_result"
    },
    {
     "data": {
      "image/png": "[encoded data removed]",
      "text/plain": [
       "<Figure size 640x480 with 1 Axes>"
      ]
     },
     "metadata": {},
     "output_type": "display_data"
    }
   ],
   "source": [
    "#Utilizando boxplot para melhor visualização do outlier\n",
    "\n",
    "srn.boxplot(dataset[\"Temperatura\"]).set_title(\"Temperatura\")"
   ]
  },
  {
   "cell_type": "code",
   "execution_count": 126,
   "id": "fd2a5465-2eed-44d0-9de9-0b1199af6402",
   "metadata": {},
   "outputs": [
    {
     "data": {
      "text/plain": [
       "count     13.000000\n",
       "mean      89.769231\n",
       "std       34.540203\n",
       "min       65.000000\n",
       "25%       70.000000\n",
       "50%       85.000000\n",
       "75%       90.000000\n",
       "max      200.000000\n",
       "Name: Umidade, dtype: float64"
      ]
     },
     "execution_count": 126,
     "metadata": {},
     "output_type": "execute_result"
    }
   ],
   "source": [
    "#Umidade\n",
    "\n",
    "umidade = dataset[\"Umidade\"].describe()\n",
    "umidade\n",
    "\n",
    "#Conclusão: Há outlier"
   ]
  },
  {
   "cell_type": "code",
   "execution_count": 173,
   "id": "861fa143-19db-4c64-904f-6d354c0305dc",
   "metadata": {},
   "outputs": [
    {
     "data": {
      "text/plain": [
       "Text(0.5, 1.0, 'Umidade')"
      ]
     },
     "execution_count": 173,
     "metadata": {},
     "output_type": "execute_result"
    },
    {
     "data": {
      "image/png": "[encoded data removed]",
      "text/plain": [
       "<Figure size 640x480 with 1 Axes>"
      ]
     },
     "metadata": {},
     "output_type": "display_data"
    }
   ],
   "source": [
    "#Utilizando boxplot para melhor visualização do outlier\n",
    "\n",
    "srn.boxplot(dataset[\"Umidade\"]).set_title(\"Umidade\")"
   ]
  },
  {
   "cell_type": "markdown",
   "id": "1ee5acfb-9428-495f-a39b-40e369a0a7f2",
   "metadata": {},
   "source": [
    "<font size=\"4\">Tratamento de Dados</font>"
   ]
  },
  {
   "cell_type": "code",
   "execution_count": 129,
   "id": "9f5a79c8-1a43-4641-830b-32e2a8981214",
   "metadata": {},
   "outputs": [],
   "source": [
    "#DADOS A SEREM TRATADOS\n",
    "\n",
    "#Valores NaN: Umidade e Vento\n",
    "#Valores fora do domínio: Aparencia\n",
    "#Outliers: Temperatura e Umidade"
   ]
  },
  {
   "cell_type": "markdown",
   "id": "63657a14-e05b-4649-98cd-f5a4f3cbcf11",
   "metadata": {},
   "source": [
    "<font size=\"4\">Vento - Substituir valor NaN com moda</font>"
   ]
  },
  {
   "cell_type": "code",
   "execution_count": 132,
   "id": "a3d44969-e48b-470e-b2d6-edd0f8b98420",
   "metadata": {},
   "outputs": [
    {
     "data": {
      "text/plain": [
       "'FALSO'"
      ]
     },
     "execution_count": 132,
     "metadata": {},
     "output_type": "execute_result"
    }
   ],
   "source": [
    "#Verificando moda\n",
    "\n",
    "ventomoda = sts.mode(dataset[\"Vento\"])\n",
    "ventomoda"
   ]
  },
  {
   "cell_type": "code",
   "execution_count": 134,
   "id": "f8408545-b10b-4ead-8934-1efeae97e5b5",
   "metadata": {},
   "outputs": [],
   "source": [
    "#Substituindo valor NaN por moda\n",
    "\n",
    "dataset.fillna({\"Vento\":ventomoda}, inplace = True)"
   ]
  },
  {
   "cell_type": "code",
   "execution_count": 136,
   "id": "2668e86a-ac41-43d4-b3e9-e0c9b7773148",
   "metadata": {},
   "outputs": [
    {
     "data": {
      "text/plain": [
       "0"
      ]
     },
     "execution_count": 136,
     "metadata": {},
     "output_type": "execute_result"
    }
   ],
   "source": [
    "#Verificando se NaN foi substituído\n",
    "\n",
    "dataset[\"Vento\"].isnull().sum()"
   ]
  },
  {
   "cell_type": "markdown",
   "id": "05ba3217-2634-4e6e-9ad8-a864e30eea32",
   "metadata": {},
   "source": [
    "<font size=\"4\">Umidade - Substituir NaN e Outlier pela mediana</font>"
   ]
  },
  {
   "cell_type": "code",
   "execution_count": 139,
   "id": "07c10b53-ebdf-4819-9202-6ae8eda6ab13",
   "metadata": {},
   "outputs": [
    {
     "data": {
      "text/plain": [
       "85.5"
      ]
     },
     "execution_count": 139,
     "metadata": {},
     "output_type": "execute_result"
    }
   ],
   "source": [
    "#Calculando mediana\n",
    "\n",
    "umidademedian = sts.median(dataset[\"Umidade\"])\n",
    "umidademedian"
   ]
  },
  {
   "cell_type": "code",
   "execution_count": 141,
   "id": "af7bf031-298b-444f-a00a-b7b0a3756592",
   "metadata": {},
   "outputs": [],
   "source": [
    "#Substituindo NaN por mediana\n",
    "\n",
    "dataset.fillna({\"Umidade\":umidademedian}, inplace = True)"
   ]
  },
  {
   "cell_type": "code",
   "execution_count": 143,
   "id": "cfc5db68-b579-4583-8d0d-55338b81bf13",
   "metadata": {},
   "outputs": [
    {
     "data": {
      "text/plain": [
       "0"
      ]
     },
     "execution_count": 143,
     "metadata": {},
     "output_type": "execute_result"
    }
   ],
   "source": [
    "#Verificando se NaN foi substituído\n",
    "\n",
    "dataset[\"Umidade\"].isnull().sum()"
   ]
  },
  {
   "cell_type": "code",
   "execution_count": 145,
   "id": "dda02aff-92d6-462c-9c87-e4c321367e10",
   "metadata": {},
   "outputs": [],
   "source": [
    "#Substituindo outliers com mediana\n",
    "\n",
    "dataset.loc[(dataset[\"Umidade\"] < 0) | (dataset[\"Umidade\"] > 100), \"Umidade\"] = umidademedian"
   ]
  },
  {
   "cell_type": "code",
   "execution_count": 147,
   "id": "bb155fad-63ed-4e36-87bb-3a1ad3c62d65",
   "metadata": {},
   "outputs": [
    {
     "data": {
      "text/html": [
       "<div>\n",
       "<style scoped>\n",
       "    .dataframe tbody tr th:only-of-type {\n",
       "        vertical-align: middle;\n",
       "    }\n",
       "\n",
       "    .dataframe tbody tr th {\n",
       "        vertical-align: top;\n",
       "    }\n",
       "\n",
       "    .dataframe thead th {\n",
       "        text-align: right;\n",
       "    }\n",
       "</style>\n",
       "<table border=\"1\" class=\"dataframe\">\n",
       "  <thead>\n",
       "    <tr style=\"text-align: right;\">\n",
       "      <th></th>\n",
       "      <th>Aparencia</th>\n",
       "      <th>Temperatura</th>\n",
       "      <th>Umidade</th>\n",
       "      <th>Vento</th>\n",
       "      <th>Jogar</th>\n",
       "    </tr>\n",
       "  </thead>\n",
       "  <tbody>\n",
       "  </tbody>\n",
       "</table>\n",
       "</div>"
      ],
      "text/plain": [
       "Empty DataFrame\n",
       "Columns: [Aparencia, Temperatura, Umidade, Vento, Jogar]\n",
       "Index: []"
      ]
     },
     "execution_count": 147,
     "metadata": {},
     "output_type": "execute_result"
    }
   ],
   "source": [
    "#Verificando se outliers foram substituídos\n",
    "\n",
    "dataset.loc[(dataset[\"Umidade\"] < 0) | (dataset[\"Umidade\"] > 100)]"
   ]
  },
  {
   "cell_type": "markdown",
   "id": "d4bcfb44-891c-45b2-b634-c580a6aa44c8",
   "metadata": {},
   "source": [
    "<font size=\"4\">Temperatura - Substituir Outlier pela mediana</font>"
   ]
  },
  {
   "cell_type": "code",
   "execution_count": 150,
   "id": "95b9023e-a445-4273-b6bf-586c87b9426d",
   "metadata": {},
   "outputs": [
    {
     "data": {
      "text/plain": [
       "73.5"
      ]
     },
     "execution_count": 150,
     "metadata": {},
     "output_type": "execute_result"
    }
   ],
   "source": [
    "#Calculando mediana\n",
    "\n",
    "tempmedian = sts.median(dataset[\"Temperatura\"])\n",
    "tempmedian"
   ]
  },
  {
   "cell_type": "code",
   "execution_count": 157,
   "id": "fbb80205-75b9-4de5-bee8-ff5325a27290",
   "metadata": {},
   "outputs": [],
   "source": [
    "#Substituindo outliers com mediana\n",
    "\n",
    "dataset.loc[(dataset[\"Temperatura\"] < -130) | (dataset[\"Temperatura\"] > 130), \"Temperatura\"] = tempmedian"
   ]
  },
  {
   "cell_type": "code",
   "execution_count": 159,
   "id": "b8cceb7b-b9b7-4f05-b4b6-2fb684d83d22",
   "metadata": {},
   "outputs": [
    {
     "data": {
      "text/html": [
       "<div>\n",
       "<style scoped>\n",
       "    .dataframe tbody tr th:only-of-type {\n",
       "        vertical-align: middle;\n",
       "    }\n",
       "\n",
       "    .dataframe tbody tr th {\n",
       "        vertical-align: top;\n",
       "    }\n",
       "\n",
       "    .dataframe thead th {\n",
       "        text-align: right;\n",
       "    }\n",
       "</style>\n",
       "<table border=\"1\" class=\"dataframe\">\n",
       "  <thead>\n",
       "    <tr style=\"text-align: right;\">\n",
       "      <th></th>\n",
       "      <th>Aparencia</th>\n",
       "      <th>Temperatura</th>\n",
       "      <th>Umidade</th>\n",
       "      <th>Vento</th>\n",
       "      <th>Jogar</th>\n",
       "    </tr>\n",
       "  </thead>\n",
       "  <tbody>\n",
       "  </tbody>\n",
       "</table>\n",
       "</div>"
      ],
      "text/plain": [
       "Empty DataFrame\n",
       "Columns: [Aparencia, Temperatura, Umidade, Vento, Jogar]\n",
       "Index: []"
      ]
     },
     "execution_count": 159,
     "metadata": {},
     "output_type": "execute_result"
    }
   ],
   "source": [
    "#Verificando se outliers foram substituídos\n",
    "\n",
    "dataset.loc[(dataset[\"Temperatura\"] < 0) | (dataset[\"Temperatura\"] > 100)]"
   ]
  },
  {
   "cell_type": "markdown",
   "id": "b8319147-fd21-472f-8884-c6f5bf69643d",
   "metadata": {},
   "source": [
    "<font size=\"4\">Aparencia - Substituir dados fora do domínio por moda</font>"
   ]
  },
  {
   "cell_type": "code",
   "execution_count": 162,
   "id": "87a2aff9-856e-4b3b-a300-e83caa07526d",
   "metadata": {},
   "outputs": [
    {
     "data": {
      "text/plain": [
       "'sol'"
      ]
     },
     "execution_count": 162,
     "metadata": {},
     "output_type": "execute_result"
    }
   ],
   "source": [
    "#Verificando moda\n",
    "\n",
    "apmoda = sts.mode(dataset[\"Aparencia\"])\n",
    "apmoda"
   ]
  },
  {
   "cell_type": "code",
   "execution_count": 164,
   "id": "dc2df9c9-56eb-417f-b72f-8f1449533118",
   "metadata": {},
   "outputs": [],
   "source": [
    "#Substitindo valor fora de domínio por moda\n",
    "\n",
    "dataset.loc[dataset[\"Aparencia\"].isin([\"menos\"]), \"Aparencia\"] = apmoda"
   ]
  },
  {
   "cell_type": "code",
   "execution_count": 166,
   "id": "deccad62-8132-40bf-90bd-8fe7a1a15186",
   "metadata": {},
   "outputs": [
    {
     "data": {
      "text/plain": [
       "Aparencia\n",
       "chuva      5\n",
       "nublado    3\n",
       "sol        6\n",
       "dtype: int64"
      ]
     },
     "execution_count": 166,
     "metadata": {},
     "output_type": "execute_result"
    }
   ],
   "source": [
    "#Verificando se há valor fora de domínio\n",
    "\n",
    "dataset.groupby([\"Aparencia\"]).size()"
   ]
  },
  {
   "cell_type": "code",
   "execution_count": 171,
   "id": "e7119c47-f08a-4603-bdac-fe6d267c12b5",
   "metadata": {},
   "outputs": [
    {
     "data": {
      "text/html": [
       "<div>\n",
       "<style scoped>\n",
       "    .dataframe tbody tr th:only-of-type {\n",
       "        vertical-align: middle;\n",
       "    }\n",
       "\n",
       "    .dataframe tbody tr th {\n",
       "        vertical-align: top;\n",
       "    }\n",
       "\n",
       "    .dataframe thead th {\n",
       "        text-align: right;\n",
       "    }\n",
       "</style>\n",
       "<table border=\"1\" class=\"dataframe\">\n",
       "  <thead>\n",
       "    <tr style=\"text-align: right;\">\n",
       "      <th></th>\n",
       "      <th>Aparencia</th>\n",
       "      <th>Temperatura</th>\n",
       "      <th>Umidade</th>\n",
       "      <th>Vento</th>\n",
       "      <th>Jogar</th>\n",
       "    </tr>\n",
       "  </thead>\n",
       "  <tbody>\n",
       "    <tr>\n",
       "      <th>0</th>\n",
       "      <td>sol</td>\n",
       "      <td>85.0</td>\n",
       "      <td>85.0</td>\n",
       "      <td>FALSO</td>\n",
       "      <td>nao</td>\n",
       "    </tr>\n",
       "    <tr>\n",
       "      <th>1</th>\n",
       "      <td>sol</td>\n",
       "      <td>80.0</td>\n",
       "      <td>90.0</td>\n",
       "      <td>VERDADEIRO</td>\n",
       "      <td>nao</td>\n",
       "    </tr>\n",
       "    <tr>\n",
       "      <th>2</th>\n",
       "      <td>nublado</td>\n",
       "      <td>83.0</td>\n",
       "      <td>86.0</td>\n",
       "      <td>FALSO</td>\n",
       "      <td>sim</td>\n",
       "    </tr>\n",
       "    <tr>\n",
       "      <th>3</th>\n",
       "      <td>chuva</td>\n",
       "      <td>70.0</td>\n",
       "      <td>85.5</td>\n",
       "      <td>FALSO</td>\n",
       "      <td>sim</td>\n",
       "    </tr>\n",
       "    <tr>\n",
       "      <th>4</th>\n",
       "      <td>chuva</td>\n",
       "      <td>68.0</td>\n",
       "      <td>80.0</td>\n",
       "      <td>FALSO</td>\n",
       "      <td>sim</td>\n",
       "    </tr>\n",
       "    <tr>\n",
       "      <th>5</th>\n",
       "      <td>chuva</td>\n",
       "      <td>65.0</td>\n",
       "      <td>70.0</td>\n",
       "      <td>VERDADEIRO</td>\n",
       "      <td>nao</td>\n",
       "    </tr>\n",
       "    <tr>\n",
       "      <th>6</th>\n",
       "      <td>sol</td>\n",
       "      <td>64.0</td>\n",
       "      <td>65.0</td>\n",
       "      <td>VERDADEIRO</td>\n",
       "      <td>sim</td>\n",
       "    </tr>\n",
       "    <tr>\n",
       "      <th>7</th>\n",
       "      <td>sol</td>\n",
       "      <td>73.5</td>\n",
       "      <td>95.0</td>\n",
       "      <td>FALSO</td>\n",
       "      <td>nao</td>\n",
       "    </tr>\n",
       "    <tr>\n",
       "      <th>8</th>\n",
       "      <td>sol</td>\n",
       "      <td>69.0</td>\n",
       "      <td>70.0</td>\n",
       "      <td>FALSO</td>\n",
       "      <td>sim</td>\n",
       "    </tr>\n",
       "    <tr>\n",
       "      <th>9</th>\n",
       "      <td>chuva</td>\n",
       "      <td>75.0</td>\n",
       "      <td>85.5</td>\n",
       "      <td>FALSO</td>\n",
       "      <td>sim</td>\n",
       "    </tr>\n",
       "    <tr>\n",
       "      <th>10</th>\n",
       "      <td>sol</td>\n",
       "      <td>75.0</td>\n",
       "      <td>70.0</td>\n",
       "      <td>VERDADEIRO</td>\n",
       "      <td>sim</td>\n",
       "    </tr>\n",
       "    <tr>\n",
       "      <th>11</th>\n",
       "      <td>nublado</td>\n",
       "      <td>72.0</td>\n",
       "      <td>90.0</td>\n",
       "      <td>VERDADEIRO</td>\n",
       "      <td>sim</td>\n",
       "    </tr>\n",
       "    <tr>\n",
       "      <th>12</th>\n",
       "      <td>nublado</td>\n",
       "      <td>81.0</td>\n",
       "      <td>75.0</td>\n",
       "      <td>FALSO</td>\n",
       "      <td>sim</td>\n",
       "    </tr>\n",
       "    <tr>\n",
       "      <th>13</th>\n",
       "      <td>chuva</td>\n",
       "      <td>71.0</td>\n",
       "      <td>91.0</td>\n",
       "      <td>VERDADEIRO</td>\n",
       "      <td>nao</td>\n",
       "    </tr>\n",
       "  </tbody>\n",
       "</table>\n",
       "</div>"
      ],
      "text/plain": [
       "   Aparencia  Temperatura  Umidade       Vento Jogar\n",
       "0        sol         85.0     85.0       FALSO   nao\n",
       "1        sol         80.0     90.0  VERDADEIRO   nao\n",
       "2    nublado         83.0     86.0       FALSO   sim\n",
       "3      chuva         70.0     85.5       FALSO   sim\n",
       "4      chuva         68.0     80.0       FALSO   sim\n",
       "5      chuva         65.0     70.0  VERDADEIRO   nao\n",
       "6        sol         64.0     65.0  VERDADEIRO   sim\n",
       "7        sol         73.5     95.0       FALSO   nao\n",
       "8        sol         69.0     70.0       FALSO   sim\n",
       "9      chuva         75.0     85.5       FALSO   sim\n",
       "10       sol         75.0     70.0  VERDADEIRO   sim\n",
       "11   nublado         72.0     90.0  VERDADEIRO   sim\n",
       "12   nublado         81.0     75.0       FALSO   sim\n",
       "13     chuva         71.0     91.0  VERDADEIRO   nao"
      ]
     },
     "execution_count": 171,
     "metadata": {},
     "output_type": "execute_result"
    }
   ],
   "source": [
    "#Revisão final da tabela inteira\n",
    "\n",
    "dataset"
   ]
  }
 ],
 "metadata": {
  "kernelspec": {
   "display_name": "Python [conda env:base] *",
   "language": "python",
   "name": "conda-base-py"
  },
  "language_info": {
   "codemirror_mode": {
    "name": "ipython",
    "version": 3
   },
   "file_extension": ".py",
   "mimetype": "text/x-python",
   "name": "python",
   "nbconvert_exporter": "python",
   "pygments_lexer": "ipython3",
   "version": "3.12.7"
  }
 },
 "nbformat": 4,
 "nbformat_minor": 5
}
